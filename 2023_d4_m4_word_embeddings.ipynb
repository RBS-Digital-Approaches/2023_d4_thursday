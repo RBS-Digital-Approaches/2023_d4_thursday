{
  "cells": [
    {
      "cell_type": "markdown",
      "source": [
        "Preliminaries\n",
        "==============\n",
        "\n",
        "Mount your GDrive using the file browser OR run the code below:"
      ],
      "metadata": {
        "id": "qoOltG3bKYpd"
      },
      "id": "qoOltG3bKYpd"
    },
    {
      "cell_type": "code",
      "source": [
        "from google.colab import drive\n",
        "drive.mount('/gdrive')"
      ],
      "metadata": {
        "id": "22N_CuM-KpNM"
      },
      "execution_count": null,
      "outputs": [],
      "id": "22N_CuM-KpNM"
    },
    {
      "cell_type": "markdown",
      "source": [
        "The current Google Colab environment comes pre-loaded with an older version of the gensim package, which we'll use to interrogate an embeddings model.  So we'll also need to update gensim in our environment to the latest version."
      ],
      "metadata": {
        "id": "SD4oamBY4vJq"
      },
      "id": "SD4oamBY4vJq"
    },
    {
      "cell_type": "code",
      "source": [
        "!pip install --upgrade gensim"
      ],
      "metadata": {
        "id": "S2hjFaIvygfn"
      },
      "id": "S2hjFaIvygfn",
      "execution_count": null,
      "outputs": []
    },
    {
      "cell_type": "markdown",
      "source": [
        "During this session, we will be loading a very large, pre-trained word embeddings model. (This data is, in fact, so large that it cannot be placed in GitHub.)  To overcome this limitation,we will instead put the data directly on your Google Drive.  To do so, follow the directions below:\n",
        "\n",
        "1. Navigae to the RBS shared \"[L-100 Digital Approaches to Bibliography and Book History](https://drive.google.com/drive/folders/1ZoQwxddtqA_rgkPn_-_NT2oKhNAja9iK)\" drive.\n",
        "\n",
        "2. Locate a folder called \"Glove.\"\n",
        "\n",
        "3. Right-Click or Control-Click on this folder and select the \"Add shortcut to Drive\" option from the menue.\n",
        "\n",
        "4. When the pop-up window appears, select the \"My Drive\" folder and then hit the \"Add\" button."
      ],
      "metadata": {
        "id": "Pcstx1cf5xz1"
      },
      "id": "Pcstx1cf5xz1"
    },
    {
      "cell_type": "markdown",
      "id": "c7ae298c",
      "metadata": {
        "id": "c7ae298c"
      },
      "source": [
        "Word Embeddings\n",
        "===============\n",
        "\n",
        "Our sessions so far have worked off the idea of document annotation to produce new, sometimes highly useful metdata about texts. We've used this information for everything from information retrieval tasks to predictive classification. Along the way, we've also made some passing discussions about how such annotations work to quantify or identify the semantics of those tasks (our work with POS tags, for example). But what we haven't yet done is produce a model of semantic meaning ourselves. This is another core task of NLP, and there are several different ways to approach building a statistical representation of tokens' meanings. The present section discusses one of the most popular methods of doing so: **word embeddings** also known as **word vectors**. Below, we'll overview what word embeddings are, demonstrate how to build and use them, talk about important considerations regarding bias, and apply all this to a document clustering task.\n",
        "\n",
        "The corpus we'll use is Melanie Walsh’s [collection] of ~380 obituaries from the _New York Times_, which we also used in our TF-IDF text vectoring and classifiation and Topic Modeling sessions. Our return to it here is meant to chime with that discussion, for word embeddings enable us to perform a similar kind of text vectorization. Though, as we'll discuss, the resultant vectors will be considerably more feature-rich than what we could achieve with tf-idf alone.\n",
        "\n",
        "[collection]: https://melaniewalsh.github.io/Intro-Cultural-Analytics/00-Datasets/00-Datasets.html\n",
        "[in the context of tf-idf scores]: https://ucdavisdatalab.github.io/workshop_getting_started_with_textual_data/05_clustering-and-classification.html\n",
        "\n",
        "```{admonition} Learning objectives\n",
        "By the end of this chapter, you will be able to:\n",
        "+ Explain what word embeddings are\n",
        "+ Use `gensim` to train and load word embeddings models\n",
        "+ Identify and analyze word relationships in these models\n",
        "+ Recognize how bias can inhere in embeddings\n",
        "+ Encode documents with a word embeddings model\n",
        "```"
      ]
    },
    {
      "cell_type": "markdown",
      "id": "d784095c",
      "metadata": {
        "id": "d784095c"
      },
      "source": [
        "Word Embeddings: Introduction\n",
        "-------------------------------------\n",
        "\n",
        "The word-embedding technique was first introduced in 2013, and it spawned a host of different variants that completely flooded the field of NLP until about 2018. In part, word embedding's popularity stems from the relatively simple intuition behind it, which is known as the **distributional hypothesis**: \"a word is characterized by the company it keeps\" (Firth). Words that appear in similar contexts, in other words, have similar meanings, and what word embeddings do is represent that context-specific information through a set of features. As a result, similar words share similar data representations, and we can leverage that similarity to explore the semantic space of a corpus, to encode documents with feature-rich data, and more.\n",
        "\n",
        "If you're familiar with [tf-idf vectors], the underlying data structure of word embeddings is the same: every word is represented by a vector of _n_ features. But a key difference lies in the **sparsity** of the vectors – or, in the case of word embeddings, the _lack_ of sparsity. As we saw in the last chapter, tf-idf vectors can suffer from the [curse of dimensionality], something that's compounded by the fact that such vectors must contain features for every word in corpus, regardless of whether a document has that word. This means tf-idf vectors are highly sparse: they contain many 0s. Word embeddings, on the other hand, do not. They're what we call **dense** representations. Each one is a fixed-length, non-sparse vector (of 50-300 dimensions, usually) that is much more information-rich than tf-idf. As a result, embeddings tend to be capable of representing more nuanced relationships between corpus words – a performance improvement that is further boosted by the fact that many of the most popular models had the advantage of being trained on billions and billions of tokens.\n",
        "\n",
        "The other major difference between these vectors and tf-idf lies in how the former are created. While at root, word embeddings represent token co-occurence data (just like a document-term matrix), they are the product of millions of guesses made by a neural network. Training this network involves making predictions about a target word, based on that word's context. We are not going to delve into the math behind these predictions (though [this post] does); however, it is worth noting that there are two different training set ups for a word embedding model:\n",
        "\n",
        "```{margin} For more on CBOW vs. skip-gram\n",
        "Check out this blog post, [Words as Vectors].\n",
        "\n",
        "[Words as Vectors]: https://iksinc.online/tag/continuous-bag-of-words-cbow/\n",
        "```\n",
        "\n",
        "1. **Common Bag of Words (CBOW)**: given a window of words on either side of a target, the network tries to predict what word the target should be\n",
        "2. **Skip-grams**: the network starts with the word in the middle of a window and picks random words within this window to use as its prediction targets\n",
        "\n",
        "As you may have noticed, these are just mirrored versions of one another. CBOW starts from context, while skip-gram tries to rebuild context. Regardless, in both cases the network attempts to maximize the likelihood of its predictions, updating its weights accordingly over the course of training. Words that repeatedly appear in similar contexts will help shape thse weights, and in turn the model will associate such words with similar vector representations. If you'd like to see all this in action, Xin Rong has produced a [fantastic, interactive visualization] of how word embedding models learn.\n",
        "\n",
        "Of course, the other way to understand how word embeddings work is to use them yourself. We'll move on to doing so now.\n",
        "\n",
        "[Transformer]: https://en.wikipedia.org/wiki/Transformer_(machine_learning_model)\n",
        "[tf-idf vectors]: https://ucdavisdatalab.github.io/workshop_getting_started_with_textual_data/04_corpus-analytics.html#weighted-metrics-tf-idf-scores\n",
        "[curse of dimensionality]: https://en.wikipedia.org/wiki/Curse_of_dimensionality\n",
        "[this post]: https://medium.com/analytics-vidhya/maths-behind-word2vec-explained-38d74f32726b\n",
        "[fantastic, interactive visualization]: https://ronxin.github.io/wevi/"
      ]
    },
    {
      "cell_type": "markdown",
      "id": "937ff353",
      "metadata": {
        "id": "937ff353"
      },
      "source": [
        "Loading the Data\n",
        "--------------------\n",
        "\n",
        "Before we begin working with word embeddings in full, let's load a corpus manifest file, which will help us keep track of all the obituaries."
      ]
    },
    {
      "cell_type": "code",
      "execution_count": null,
      "id": "0ff68e34",
      "metadata": {
        "id": "0ff68e34"
      },
      "outputs": [],
      "source": [
        "import pandas as pd\n",
        "\n",
        "manifest = pd.read_csv('/gdrive/MyDrive/rbs_digital_approaches_2023/2023_data_class/tm_2/manifest.csv', index_col=0)\n",
        "manifest = manifest.assign(YEAR = pd.to_datetime(manifest['YEAR'], format='%Y').dt.year)\n",
        "\n",
        "print(\n",
        "    f\"Number of obituaries: {len(manifest)}\",\n",
        "    f\"\\nDate range: {manifest['YEAR'].min()}--{manifest['YEAR'].max()}\"\n",
        ")"
      ]
    },
    {
      "cell_type": "code",
      "execution_count": null,
      "id": "9d9fb877",
      "metadata": {
        "id": "9d9fb877"
      },
      "outputs": [],
      "source": [
        "manifest.groupby('YEAR').count().plot(\n",
        "    figsize=(15, 5),\n",
        "    y='NAME',\n",
        "    title='Obituaries per Year',\n",
        "    ylabel='Num. obituaries',\n",
        "    xlabel='Year',\n",
        "    legend=False\n",
        ");"
      ]
    },
    {
      "cell_type": "markdown",
      "id": "96ed7777",
      "metadata": {
        "id": "96ed7777"
      },
      "source": [
        "Here's a sampling of the corpus:"
      ]
    },
    {
      "cell_type": "code",
      "execution_count": null,
      "id": "18acb156",
      "metadata": {
        "id": "18acb156"
      },
      "outputs": [],
      "source": [
        "for idx in manifest.sample(10).index:\n",
        "    name, date = manifest.loc[idx, 'NAME'], manifest.loc[idx, 'YEAR']\n",
        "    print(f\"{name} ({date})\")"
      ]
    },
    {
      "cell_type": "markdown",
      "id": "241bd292",
      "metadata": {
        "id": "241bd292"
      },
      "source": [
        "Now we can load the obituaries themselves. For demonstration perposes, each of the files in the corpus have already been processed by the text cleaning pipeline that we instituted in our ealier sessions on tf-idf and topic modeling: they represent the lowercase, stopped, and lemmatized versions of the originals.\n",
        "\n",
        "No extra loading considerations are needed here either. We'll just use `glob` to get our file paths and iterate through the list, loading each document into a `corpus` list. Also note that here, for demonstration purposes, we are forgoing the use of a file manifest and that we still must split the file contents."
      ]
    },
    {
      "cell_type": "code",
      "execution_count": null,
      "id": "c2575e92",
      "metadata": {
        "id": "c2575e92"
      },
      "outputs": [],
      "source": [
        "import re\n",
        "\n",
        "def to_lower(doc):\n",
        "    return doc.lower()\n",
        "\n",
        "def remove_punctuation(doc):\n",
        "    doc = re.sub(r\"[-]|[—]|[_]\", \" \", doc)\n",
        "    doc = re.sub(r\"[^\\w\\s]\", \"\", doc)\n",
        "    return doc\n",
        "\n",
        "def remove_digits(doc):\n",
        "    return re.sub(r\"[0-9]\", \"\", doc)\n",
        "\n",
        "def remove_whitespace(doc):\n",
        "    return re.sub(r\"\\s+\", \" \", doc)\n",
        "\n",
        "def clean(doc):\n",
        "    lowercase = to_lower(doc)\n",
        "    no_punct = remove_punctuation(lowercase)\n",
        "    no_digits = remove_digits(no_punct)\n",
        "    no_whitespace = remove_whitespace(no_digits)\n",
        "    return no_whitespace\n",
        "\n",
        "indir =  \"/gdrive/MyDrive/rbs_digital_approaches_2023/2023_data_class/tm_2/input/\"\n",
        "corpus = []\n",
        "for title in manifest.index:\n",
        "    filepath = indir + manifest.loc[title, 'FILE_NAME']\n",
        "    with open(filepath, 'r') as f:\n",
        "      text = f.read()\n",
        "      text_cleaned = clean(text)\n",
        "      text_tokens = text_cleaned.split()\n",
        "      corpus.append(text_tokens)"
      ]
    },
    {
      "cell_type": "code",
      "source": [
        "corpus[0]"
      ],
      "metadata": {
        "id": "Z5Bwoi2Wvc3r"
      },
      "id": "Z5Bwoi2Wvc3r",
      "execution_count": null,
      "outputs": []
    },
    {
      "cell_type": "markdown",
      "id": "787d5031",
      "metadata": {
        "id": "787d5031"
      },
      "source": [
        "With this done, we can move on to the model."
      ]
    },
    {
      "cell_type": "markdown",
      "id": "6b01442f",
      "metadata": {
        "id": "6b01442f"
      },
      "source": [
        "Using an Embeddings Model\n",
        "----------------------------------\n",
        "\n",
        "At this point, we are at a crossroads. On the one hand, we could train a word embeddings model using our corpus documents as is. The `gensim` library offers functionality for this, and it's a relatively easy operation. On the other, we could use premade embeddings, which are usually trained on a more general – and much larger – set of documents. There is a tradeoff here:\n",
        "\n",
        "+ Training a corpus-specific model will more faithfully represent the token behavior of the texts we'd like to analyze, but these representations could be _too_ specific, especially if the model doesn't have enough data to train on; the resultant embeddings may be closer to topic models than to word-level semantics\n",
        "+ Using premade embeddings gives us the benefit of generalization: the vectors will cleave more closely to how we understand language; but such embeddings might a) miss out on certain nuances we'd like to capture, or b) introduce biases into our corpus (more on this below)\n",
        "\n",
        "In our case, the decision is difficult. With this corpus, a model trained on the obituaries alone does not produce vectors that can fully demonstrate the capabilities of the word embedding technique. The corpus is just a little too specific and too small. We could've used a larger corpus, but doing so would introduce slow-downs in the workshop session. Because of this, for the analytic portions of this suession we wil use a premade model, in this case, the Stanford [GloVe] embeddings (the 200-dimension version). GloVe was trained on billions of tokens, spanning Wikipedia data, newswire articles, even Twitter.\n",
        "\n",
        "That said, going with GloVe introduces its own problems. For one thing, we can't show you how to train a word embeddings model itself – at least not live. The code to do so, however, is reproduced below:\n",
        "\n",
        "```{margin} Model parameters\n",
        "There are many different parameters to select from in `gensim`. You can find them in the [Word2Vec documentation].\n",
        "\n",
        "[Word2Vec documentation]: https://radimrehurek.com/gensim/models/word2vec.html#gensim.models.word2vec.Word2Vec\n",
        "```\n",
        "\n",
        "```python\n",
        "from gensim.models import Word2Vec\n",
        "\n",
        "n_dimensions = 300\n",
        "model = Word2Vec(n_dimensions)\n",
        "model.build_vocab(corpus)\n",
        "model.train(corpus, total_words=model.corpus_total_words, epochs=5)\n",
        "```\n",
        "\n",
        "Another problem has to do with the data GloVe was trained on. It's so large that we can't account for all the content, and this becomes particularly detrimental when it comes to bias. [Researchers have found] that general embeddings models reproduce gender-discriminatory language, even hate speech, by virtue of the fact that they are trained on huge amounts of text data, often without consideration of whether the content of such data is something one would endorse. GloVe is [known to be biased] in this way. We'll show an example later on in this chapter and will discuss this in much more detail during our live session, but for now just note that the effects of bias _do_ shape how we represent our corpus, and it's important to keep an eye out for this when working with the data.\n",
        "\n",
        "[GloVe]: https://nlp.stanford.edu/projects/glove/\n",
        "[Researchers have found]: https://www.technologyreview.com/2016/07/27/158634/how-vector-space-mathematics-reveals-the-hidden-sexism-in-language/\n",
        "[known to be biased]: http://arxiv.org/abs/1607.06520\n",
        "\n",
        "### Loading a model\n",
        "\n",
        "With all that said, we can move on. Below, we load GloVe embeddings into our workspace using a `gensim` wrapper."
      ]
    },
    {
      "cell_type": "code",
      "execution_count": null,
      "id": "baa49bbd",
      "metadata": {
        "id": "baa49bbd"
      },
      "outputs": [],
      "source": [
        "from gensim.models import KeyedVectors\n",
        "\n",
        "model = KeyedVectors.load('/gdrive/MyDrive/glove/glove-wiki-gigaword_200d.bin')"
      ]
    },
    {
      "cell_type": "markdown",
      "id": "612e8a26",
      "metadata": {
        "id": "612e8a26"
      },
      "source": [
        "The `KeyedVectors` object acts almost like a dictionary. You can do certain Python operations directly on it, like using `len()` to find the number of tokens in the model."
      ]
    },
    {
      "cell_type": "code",
      "execution_count": null,
      "id": "91a4669a",
      "metadata": {
        "id": "91a4669a"
      },
      "outputs": [],
      "source": [
        "n_tokens = len(model)\n",
        "\n",
        "print(f\"Number of unique tokens in the model: {n_tokens:,}\")"
      ]
    },
    {
      "cell_type": "markdown",
      "id": "042060a1",
      "metadata": {
        "id": "042060a1"
      },
      "source": [
        "### Token mappings\n",
        "\n",
        "Each token in the model (what `gensim` calls a \"key\") has an associated index. This mapping is accessible via the `.key_to_index` attribute:"
      ]
    },
    {
      "cell_type": "code",
      "execution_count": null,
      "id": "b82fb46d",
      "metadata": {
        "tags": [
          "output_scroll"
        ],
        "id": "b82fb46d"
      },
      "outputs": [],
      "source": [
        "model.key_to_index"
      ]
    },
    {
      "cell_type": "markdown",
      "id": "7843d4e5",
      "metadata": {
        "id": "7843d4e5"
      },
      "source": [
        "If you want to get the vector representation for a token, you can use either the key or the index. The syntax is just like a Python dictionary. Below, we randomly select a single token from the model vocabulary's `.index_to_key` attribute and find the index associated with it."
      ]
    },
    {
      "cell_type": "code",
      "execution_count": null,
      "id": "0b78a292",
      "metadata": {
        "id": "0b78a292"
      },
      "outputs": [],
      "source": [
        "import random\n",
        "\n",
        "rand_token = random.choice(model.index_to_key)\n",
        "rand_idx = model.key_to_index[rand_token]\n",
        "\n",
        "print(f\"The index position for '{rand_token}' is {rand_idx}\")"
      ]
    },
    {
      "cell_type": "markdown",
      "id": "ce3faa4d",
      "metadata": {
        "id": "ce3faa4d"
      },
      "source": [
        "Here's its vector:"
      ]
    },
    {
      "cell_type": "code",
      "execution_count": null,
      "id": "29dd6a22",
      "metadata": {
        "scrolled": true,
        "tags": [
          "output_scroll"
        ],
        "id": "29dd6a22"
      },
      "outputs": [],
      "source": [
        "model.vectors[rand_idx]"
      ]
    },
    {
      "cell_type": "markdown",
      "id": "c7a9c9b7",
      "metadata": {
        "id": "c7a9c9b7"
      },
      "source": [
        "Finally, we can store the entire model vocabulary in a `set` and show a few examples of the tokens therein."
      ]
    },
    {
      "cell_type": "code",
      "execution_count": null,
      "id": "e50e56cc",
      "metadata": {
        "id": "e50e56cc"
      },
      "outputs": [],
      "source": [
        "model_vocab = set(model.index_to_key)\n",
        "\n",
        "for token in random.sample(model_vocab, 10):\n",
        "    print(token)"
      ]
    },
    {
      "cell_type": "markdown",
      "id": "ce4de567",
      "metadata": {
        "id": "ce4de567"
      },
      "source": [
        "You may find some unexpected tokens in this output. Though it has been ostensibly trained on an English corpus, GloVe contains multilingual text. It also contains lots of noisy tokens, which range from erroneous segmentations (\"drummer/percussionist\" is one token, for example) to password-like strings and even HTML markup. Depending on your task, you may not notice these tokens, but they do in fact influence the overall shape of the model, and sometimes you'll find them cropping up when you're hunting around for similar terms and the like (more on this soon)."
      ]
    },
    {
      "cell_type": "markdown",
      "id": "b0ae401f",
      "metadata": {
        "id": "b0ae401f"
      },
      "source": [
        "### Out-of-vocabulary tokens\n",
        "\n",
        "While GloVe's vocabulary sometimes seems _too_ expansive, there are other instances where it's too restricted."
      ]
    },
    {
      "cell_type": "code",
      "source": [
        "assert 'esparza' in model, \"Not in vocabulary!\""
      ],
      "metadata": {
        "id": "Qag3CZJFsoPm"
      },
      "id": "Qag3CZJFsoPm",
      "execution_count": null,
      "outputs": []
    },
    {
      "cell_type": "code",
      "execution_count": null,
      "id": "4abca184",
      "metadata": {
        "tags": [
          "raises-exception"
        ],
        "id": "4abca184"
      },
      "outputs": [],
      "source": [
        "assert 'unshaped' in model, \"Not in vocabulary!\""
      ]
    },
    {
      "cell_type": "markdown",
      "id": "842c8da8",
      "metadata": {
        "id": "842c8da8"
      },
      "source": [
        "If the model wasn't trained on a particular word, it won't have a corresponding vector for that word either. This is crucial. Because models like GloVe only know what they've been trained on, you need to be aware of any potential discrepancies between their vocabularies and your corpus data. If you don't keep this in mind, sending unseen, or **out-of-vocabulary**, tokens to GloVe will throw errors in your code:"
      ]
    },
    {
      "cell_type": "code",
      "execution_count": null,
      "id": "9210b8a9",
      "metadata": {
        "tags": [
          "raises-exception"
        ],
        "id": "9210b8a9"
      },
      "outputs": [],
      "source": [
        "model['esparza']"
      ]
    },
    {
      "cell_type": "code",
      "source": [
        "model['unshaped']"
      ],
      "metadata": {
        "id": "mdp2hycqzc5u"
      },
      "id": "mdp2hycqzc5u",
      "execution_count": null,
      "outputs": []
    },
    {
      "cell_type": "markdown",
      "id": "dd017ccd",
      "metadata": {
        "id": "dd017ccd"
      },
      "source": [
        "There are a few ways to handle this problem. The most common is to simply _not encode_ tokens in your corpus that don't have a corresponding vector in GloVe. Below, we construct three dictionaries for our corpus data. The first contains all tokens, while the second and third are comprised of tokens that are and are not in Glove, respectively. We identify whether the model has a token using its `.has_index_for()` method."
      ]
    },
    {
      "cell_type": "code",
      "execution_count": null,
      "id": "e92e2e24",
      "metadata": {
        "id": "e92e2e24"
      },
      "outputs": [],
      "source": [
        "corpus_vocab = set(token for doc in corpus for token in doc)\n",
        "in_glove = set(token for token in corpus_vocab if model.has_index_for(token))\n",
        "no_glove = set(token for token in corpus_vocab if model.has_index_for(token) == False)\n",
        "\n",
        "print(\n",
        "    f\"Total words in the corpus vocabulary: {len(corpus_vocab):,}\",\n",
        "    f\"\\nNumber of corpus words in GloVe: {len(in_glove):,}\",\n",
        "    f\"\\nNumber of corpus words not in GloVe: {len(no_glove):,}\"\n",
        ")"
      ]
    },
    {
      "cell_type": "markdown",
      "id": "7ac92b5f",
      "metadata": {
        "id": "7ac92b5f"
      },
      "source": [
        "Any subsequent code we write will need to reference these dictionaries to determine whether it should encode a token.\n",
        "\n",
        "While this is what we'll indeed do below, obviously it isn't an ideal situation. But it's one of the consequences of using premade models. There are, however, a few other ways to handle out-of-vocabulary terms. Some models offer special \"UNK\" tokens, which you could associate with all of your problem tokens. This, at the very least, enables you to have _some_ representation of your data. A more complex approach involves taking the mean embedding of the word vectors surrounding an unknown token; and depending on the model, you can also train it further, adding extra tokens from your domain-specific text. Instructions for this last option are available [here] in the `gensim` documentation.\n",
        "\n",
        "[here]: https://radimrehurek.com/gensim/models/word2vec.html#usage-examples"
      ]
    },
    {
      "cell_type": "markdown",
      "id": "268817e9",
      "metadata": {
        "id": "268817e9"
      },
      "source": [
        "Word relationships\n",
        "----------------------\n",
        "\n",
        "Later on we'll use GloVe to encode our corpus texts. But before we do, it's worth demonstrating more generally some of the properties of word vectors. Vector representations of text allow us to perform various mathematical operations on our corpus that approximate (though maybe _only_ approximate) semantics. The most common among these operations is finding the **cosine similarity** between two vectors. Our Getting Started with Textual Data series has a whole [chapter] on this measure, so if you haven't encountered it before, we recommend you read that. But in short: cosine similarity measures the difference between vectors' orientation in a feature space (here, the feature space is comprised of each of the vectors' 200 dimentions). The closer two vectors are, the more likely they are to share semantic similarities.\n",
        "\n",
        "[chapter]: https://ucdavisdatalab.github.io/workshop_getting_started_with_textual_data/05_clustering-and-classification.html#\n",
        "\n",
        "### Cosine similarity\n",
        "\n",
        "`gensim` provides easy access to this measure and other such vector space operations, and we can use this functionality to explore relationships between words in a model. To find the cosine similarity between the vectors for two words in GloVe, simply use the model's `.similarity()` method:"
      ]
    },
    {
      "cell_type": "code",
      "execution_count": null,
      "id": "f4c30643",
      "metadata": {
        "id": "f4c30643"
      },
      "outputs": [],
      "source": [
        "a, b = 'calculate', 'compute'\n",
        "sim = model.similarity(a, b)\n",
        "\n",
        "print(f\"Consine similarity score for '{a}' and '{b}': {sim:0.4f}\")"
      ]
    },
    {
      "cell_type": "markdown",
      "id": "db7bc5ae",
      "metadata": {
        "id": "db7bc5ae"
      },
      "source": [
        "The only difference between the score above and the one that you might produce, say, with `scikit-learn`'s cosine similarity implementation is that `gensim` bounds its values from `[-1,1]`, whereas the latter uses a `[0,1]` scale. While in `gensim` it's still the case that similar words score closer to `1`, highly dissimilar words will be closer to `-1`.\n",
        "\n",
        "At any rate, we can get the top _n_ most similar words for a word using `.most_similar()`. The function defaults to 10 entries, but you can change that with the `topn` paramter."
      ]
    },
    {
      "cell_type": "code",
      "execution_count": null,
      "id": "412f067b",
      "metadata": {
        "id": "412f067b"
      },
      "outputs": [],
      "source": [
        "targets = random.sample(in_glove, 5)\n",
        "\n",
        "for token in targets:\n",
        "    similarities = model.most_similar(token)\n",
        "    print(f\"Tokens most similar to '{token}':\")\n",
        "    df = pd.DataFrame(similarities, columns=['WORD', 'SCORE'])\n",
        "    display(df)"
      ]
    },
    {
      "cell_type": "markdown",
      "id": "0b3983f5",
      "metadata": {
        "id": "0b3983f5"
      },
      "source": [
        "We can also find the _least_ similar word. This is useful to show, because it pressures our idea of what counts as similarity. Mathematical similarity does not always align with concepts like synonyms and antonyms. For example, it's probably safe to say that the semantic opposite of \"good\" – that is, its antonym – is \"evil.\" But in the world of vector spaces, the least similar word to \"good\" is:"
      ]
    },
    {
      "cell_type": "code",
      "execution_count": null,
      "id": "1ddb5788",
      "metadata": {
        "id": "1ddb5788"
      },
      "outputs": [],
      "source": [
        "model.most_similar('good', topn=len(model))[-1]"
      ]
    },
    {
      "cell_type": "markdown",
      "id": "47afacde",
      "metadata": {
        "id": "47afacde"
      },
      "source": [
        "Just noise! Relatively speaking, the vectors for \"good\" and \"evil\" are actually quite similar."
      ]
    },
    {
      "cell_type": "code",
      "execution_count": null,
      "id": "bfd03710",
      "metadata": {
        "id": "bfd03710"
      },
      "outputs": [],
      "source": [
        "a, b = 'good', 'evil'\n",
        "sim = model.similarity(a, b)\n",
        "\n",
        "print(f\"Consine similarity score for {a} and {b}: {sim:0.4f}\")"
      ]
    },
    {
      "cell_type": "markdown",
      "id": "ca0ef20e",
      "metadata": {
        "id": "ca0ef20e"
      },
      "source": [
        "How do we make sense of this? Well, it has to do with the way the word embeddings are created. Since embeddings models are ultimately trained on co-occurrence data, words that tend to appear in similar kinds of contexts will be more similar in a mathematical sense than those that don't.\n",
        "\n",
        "Keeping this in mind is also important for considerations of bias. Since, in one sense, _embeddings reflect the interchangeability between tokens_, they will reinforce negative, even harmful patterns in the data (which is to say in culture at large). For example, consider the most similar words for \"doctor\" and \"nurse.\" The latter is locked up within gendered language: according to GloVe, a nurse is like a midwife is like a mother."
      ]
    },
    {
      "cell_type": "code",
      "execution_count": null,
      "id": "831246c4",
      "metadata": {
        "id": "831246c4"
      },
      "outputs": [],
      "source": [
        "for token in ['doctor', 'nurse']:\n",
        "    similarities = model.most_similar(token)\n",
        "    print(f\"Tokens most similar to '{token}':\")\n",
        "    df = pd.DataFrame(similarities, columns=['WORD', 'SCORE'])\n",
        "    display(df)"
      ]
    },
    {
      "cell_type": "markdown",
      "id": "53f765b0",
      "metadata": {
        "id": "53f765b0"
      },
      "source": [
        "### Visualizing the vector space\n",
        "\n",
        "One way to start getting a feel for all this is to visualize the word vectors. We do so below by sampling a portion of the GloVe vectors and then reducing them into two-dimensional data, which we can plot. First, let's build two functions.\n",
        "\n",
        "```{margin} How we create the visualization data\n",
        "`sample_embeddings()` takes a sample from GloVe:\n",
        "\n",
        "1. First it randomly selects indices in the model\n",
        "2. Then it uses these to subset the vectors\n",
        "3. Finally it associates the tokens with their respective indices to produce a set of labels\n",
        "\n",
        "`prepare_vis_data()` takes the sampled vectors and their labels and reduces them with a t-SNE embedder\n",
        "\n",
        "1. The `TSNE()` portion of the code does the work of reducing our 200-dimension vectors into only two dimensions\n",
        "2. Then the function converts the two-dimensional data into a dataframe and associates the labels\n",
        "```"
      ]
    },
    {
      "cell_type": "code",
      "execution_count": null,
      "id": "e575b4ef",
      "metadata": {
        "id": "e575b4ef"
      },
      "outputs": [],
      "source": [
        "from sklearn.manifold import TSNE\n",
        "\n",
        "def sample_embeddings(vectors, samp=1000):\n",
        "    n_vectors = vectors.shape[0]\n",
        "    mask = random.sample(range(n_vectors), samp)\n",
        "    vectors = vectors[mask]\n",
        "    vocab = [model.index_to_key[idx] for idx in mask]\n",
        "\n",
        "    return vectors, vocab\n",
        "\n",
        "def prepare_vis_data(vectors, labels):\n",
        "    reduced = TSNE(\n",
        "        n_components=2,\n",
        "        learning_rate='auto',\n",
        "        init='random',\n",
        "        random_state=357\n",
        "    ).fit_transform(vectors)\n",
        "\n",
        "    vis_data = pd.DataFrame(reduced, columns=['X', 'Y'])\n",
        "    vis_data['LABEL'] = labels\n",
        "\n",
        "    return vis_data"
      ]
    },
    {
      "cell_type": "markdown",
      "id": "5a867847",
      "metadata": {
        "id": "5a867847"
      },
      "source": [
        "Now we can retrieve all the vectors from GloVe using the `.key_to_index` attribute. With those stored in a `numpy` array, it's time to sample them and create the visualization data."
      ]
    },
    {
      "cell_type": "code",
      "execution_count": null,
      "id": "590ae1fb",
      "metadata": {
        "id": "590ae1fb"
      },
      "outputs": [],
      "source": [
        "import numpy as np\n",
        "all_vectors = np.array([model[idx] for idx in model.key_to_index])\n",
        "\n",
        "sampled, sampled_vocab = sample_embeddings(all_vectors)\n",
        "vis_data = prepare_vis_data(sampled, sampled_vocab)"
      ]
    },
    {
      "cell_type": "markdown",
      "id": "57f25012",
      "metadata": {
        "id": "57f25012"
      },
      "source": [
        "```{margin} This visualization is partial\n",
        "Since we've run a t-SNE reduction on the sampled embeddings, the graph layout only takes into account the relative differences between that sampling, not all of GloVe. Going the latter route would take a while to compute – there would be 400,000 embeddings to reduce!\n",
        "```\n",
        "\n",
        "With the reduced embeddings made, it's time to plot them. Have a look around at the results. What seems right to you? What surprises you?"
      ]
    },
    {
      "cell_type": "code",
      "execution_count": null,
      "id": "18195af4",
      "metadata": {
        "id": "18195af4"
      },
      "outputs": [],
      "source": [
        "import altair as alt\n",
        "\n",
        "alt.Chart(vis_data).mark_circle(size=30).encode(\n",
        "    x='X',\n",
        "    y='Y',\n",
        "    tooltip='LABEL'\n",
        ").properties(\n",
        "    height=650,\n",
        "    width=650\n",
        ").interactive()"
      ]
    },
    {
      "cell_type": "markdown",
      "id": "82a21c2f",
      "metadata": {
        "id": "82a21c2f"
      },
      "source": [
        "### Other relationships\n",
        "\n",
        "Beyond cosine similarity, there are other word relationships to explore via vector space math. For example, one way of modeling something like a _concept_ is to think about what other concepts comprise it. In other words: what plus what creates a new concept? Could we identify concepts by adding together vectors to create a new vector? Which words would this new vector be closest to in the vector space? Using the `.similar_by_vector()` method, we can find out.\n",
        "\n",
        "```{margin} What this loop does\n",
        "For each concept in our `concepts` dictionary:\n",
        "\n",
        "1. Get its associated pair of words\n",
        "2. Query the model for those words' vectors and add them together to create a new vector\n",
        "3. Find the most similar words to this new vector\n",
        "4. Use a dataframe to display the results\n",
        "```"
      ]
    },
    {
      "cell_type": "code",
      "execution_count": null,
      "id": "432fc44a",
      "metadata": {
        "id": "432fc44a"
      },
      "outputs": [],
      "source": [
        "concepts = {'beach': ('sand', 'ocean'), 'hotel': ('vacation', 'room'), 'airplane': ('air', 'car')}\n",
        "\n",
        "for concept in concepts:\n",
        "    pair = concepts[concept]\n",
        "    generated_concept = model[pair[0]] + model[pair[1]]\n",
        "    similarities = model.similar_by_vector(generated_concept)\n",
        "    print(f\"Most similar tokens to '{pair[0]}' + '{pair[1]}' (for '{concept}')\")\n",
        "    df = pd.DataFrame(similarities, columns=['WORD', 'SCORE'])\n",
        "    display(df)"
      ]
    },
    {
      "cell_type": "markdown",
      "id": "08b64296",
      "metadata": {
        "id": "08b64296"
      },
      "source": [
        "Not bad! Our target concept isn't the most similar word for either of these examples, but it's in the top 10.\n",
        "\n",
        "Most famously, word embeddings enable quasi-logical reasoning. Though, as we mentioned earlier, relationships between antonyms and synoyms do not necessarily map to a vector space, certain analogies do – at least under the right circumstances, and with particular training data. The logic here is that we identify a relationship between two words and we subtract one of those words' vectors from the other. To that new vector we add in a vector for a target word, which forms the analogy. Querying for the word closest to this modified vector should produce a similar relation between the result and the target word as that between the original pair.\n",
        "\n",
        "Here, we ask: \"strong is to stronger what clear is to X?\""
      ]
    },
    {
      "cell_type": "code",
      "execution_count": null,
      "id": "9ae0fa8b",
      "metadata": {
        "id": "9ae0fa8b"
      },
      "outputs": [],
      "source": [
        "analogies = model.most_similar(positive=['stronger', 'clear'], negative=['strong'])\n",
        "display(pd.DataFrame(analogies, columns=['WORD', 'SCORE']))\n",
        "print(\"Ideal target: 'clearer'\")"
      ]
    },
    {
      "cell_type": "markdown",
      "id": "c8ecf5b1",
      "metadata": {
        "id": "c8ecf5b1"
      },
      "source": [
        "And here, we ask: \"Paris is to France what Berlin is to X\"?"
      ]
    },
    {
      "cell_type": "code",
      "execution_count": null,
      "id": "c3f1b581",
      "metadata": {
        "id": "c3f1b581"
      },
      "outputs": [],
      "source": [
        "analogies = model.most_similar(positive=['france', 'berlin'], negative=['paris'])\n",
        "display(pd.DataFrame(analogies, columns=['WORD', 'SCORE']))\n",
        "print(\"Ideal target: 'Germany'\")"
      ]
    },
    {
      "cell_type": "markdown",
      "id": "4702496a",
      "metadata": {
        "id": "4702496a"
      },
      "source": [
        "Both of the above produce compelling results, though your mileage may vary. Consider the following: \"arm is to hand what leg is to X?\""
      ]
    },
    {
      "cell_type": "code",
      "execution_count": null,
      "id": "f5b08a0b",
      "metadata": {
        "id": "f5b08a0b"
      },
      "outputs": [],
      "source": [
        "analogies = model.most_similar(positive=['hand', 'leg'], negative=['arm'])\n",
        "display(pd.DataFrame(analogies, columns=['WORD', 'SCORE']))\n",
        "print(\"Ideal target: 'foot'\")"
      ]
    },
    {
      "cell_type": "markdown",
      "id": "9e207db9",
      "metadata": {
        "id": "9e207db9"
      },
      "source": [
        "Importantly, these results are always going to be specific to the data on which a model was trained. Claims made on the basis of word embeddings that aspire to general linguistic truths would be treading on shaky ground here."
      ]
    },
    {
      "cell_type": "markdown",
      "id": "e4f5ded1",
      "metadata": {
        "id": "e4f5ded1"
      },
      "source": [
        "Document similarity\n",
        "------------------------\n",
        "\n",
        "While the above word relationships are relatively abstract (and any such findings therefrom should be couched accordingly), we can ground them with a concrete task. In this final section, we use GloVe embeddings to encode our corpus documents. This involves associating a word vector for each token in an obituary. Of course, GloVe has not been trained on the obituaries, so there may be important differences in token behavior between that model and the corpus; but we can assume that the general nature of GloVe will give us a decent sense of the overall feature space of the corpus. The result will be an enriched representation of each document, the nuances of which may better help us identify things like similarities between obituaries in our corpus.\n",
        "\n",
        "The other consideration for using GloVe with our specific corpus concerns the out-of-vocabulary words we've already discussed. Before we can encode our documents, we need to filter out tokens for which GloVe has no representation. We can do so by referencing the `in_glove` set we produced above.\n",
        "\n",
        "```{margin} What this loop does\n",
        "For every obituary:\n",
        "\n",
        "1. Create a new list to hold the tokens we want to keep\n",
        "2. Go through each of the tokens and check whether they are in GloVe\n",
        "3. Append in-vocabulary tokens to the new list\n",
        "4. Once we've checked all tokens, append them to a new corpus list\n",
        "```"
      ]
    },
    {
      "cell_type": "code",
      "execution_count": null,
      "id": "2c21df57",
      "metadata": {
        "id": "2c21df57"
      },
      "outputs": [],
      "source": [
        "pruned = []\n",
        "for doc in corpus:\n",
        "    keep = []\n",
        "    for token in doc:\n",
        "        if token in in_glove:\n",
        "            keep.append(token)\n",
        "    pruned.append(keep)"
      ]
    },
    {
      "cell_type": "markdown",
      "id": "437a3902",
      "metadata": {
        "id": "437a3902"
      },
      "source": [
        "### Encoding\n",
        "\n",
        "Time to encode. This is an easy operation. All we need to do is run the list of document's tokens directly into the model object and `gensim` will encode each accordingly. The result will be an `(n, 200)` array, where `n` is the number of tokens we passed to the model; each one will have 200 dimensions.\n",
        "\n",
        "But if we kept this array as is, we'd run into trouble. Matrix operations often require identically shaped representations, so documents with different lengths would be incomparable. To get around this, we take the mean of all the vectors in a document. The result is a 200-dimension vector that stands as a general representation of a document."
      ]
    },
    {
      "cell_type": "code",
      "execution_count": null,
      "id": "58fee46d",
      "metadata": {
        "id": "58fee46d"
      },
      "outputs": [],
      "source": [
        "doc_embeddings = [np.mean(model[doc], axis=0) for doc in pruned]\n",
        "doc_embeddings = np.array(doc_embeddings)"
      ]
    },
    {
      "cell_type": "markdown",
      "id": "9d48ab3e",
      "metadata": {
        "id": "9d48ab3e"
      },
      "source": [
        "From here, we can treat these embeddings almost as if they represented words. Let's plot our obituaries accordingly. Take a look around at this and see what you can find. As a starting point, you might focus on that cluster of nodes right in the middle of the graph, toward the top. All the obituaries there are for sports players – they're even broken out by sport (baseball players are on the right)."
      ]
    },
    {
      "cell_type": "code",
      "execution_count": null,
      "id": "d708fb73",
      "metadata": {
        "id": "d708fb73"
      },
      "outputs": [],
      "source": [
        "vis_data = prepare_vis_data(doc_embeddings, manifest['NAME'])\n",
        "\n",
        "alt.Chart(vis_data).mark_circle(size=30).encode(\n",
        "    x='X',\n",
        "    y='Y',\n",
        "    tooltip='LABEL'\n",
        ").properties(\n",
        "    height=650,\n",
        "    width=650\n",
        ").interactive()"
      ]
    },
    {
      "cell_type": "markdown",
      "id": "a7ee6c3b",
      "metadata": {
        "id": "a7ee6c3b"
      },
      "source": [
        "### Clustering\n",
        "\n",
        "The document embeddings seem to be partitioned into different clusters. We'll end by using a hierarchical clusterer to see if we can further specifiy these clusters. This involves loading the `AgglomerativeClustering` object from `scikit-learn` and fitting it to our document embeddings. Hierarchical clustering requires us to predefine the number of clusters we'd like to generate. In this case, we'll go with 18.\n",
        "\n",
        "```{margin} Why this number of clusters?\n",
        "We grid searched different numbers and measured the results with a [silhouette coefficient].\n",
        "\n",
        "[silhouette coefficient]: https://towardsdatascience.com/silhouette-coefficient-validating-clustering-techniques-e976bb81d10c\n",
        "```"
      ]
    },
    {
      "cell_type": "code",
      "execution_count": null,
      "id": "8689e77d",
      "metadata": {
        "id": "8689e77d"
      },
      "outputs": [],
      "source": [
        "from sklearn.cluster import AgglomerativeClustering\n",
        "\n",
        "n_clusters = 18\n",
        "agg = AgglomerativeClustering(n_clusters=n_clusters).fit(doc_embeddings)"
      ]
    },
    {
      "cell_type": "markdown",
      "id": "cb1aa71f",
      "metadata": {
        "id": "cb1aa71f"
      },
      "source": [
        "Now we can assign the clusterer's predicted labels to the dataframe that contains our visualization data and re-plot the results."
      ]
    },
    {
      "cell_type": "code",
      "execution_count": null,
      "id": "902d168e",
      "metadata": {
        "id": "902d168e"
      },
      "outputs": [],
      "source": [
        "vis_data['CLUSTER'] = agg.labels_ + 1\n",
        "\n",
        "alt.Chart(vis_data).mark_circle(size=30).encode(\n",
        "    x='X',\n",
        "    y='Y',\n",
        "    tooltip=['LABEL', 'CLUSTER'],\n",
        "    color='CLUSTER:N'\n",
        ").properties(\n",
        "    height=650,\n",
        "    width=650\n",
        ").interactive()"
      ]
    },
    {
      "cell_type": "markdown",
      "id": "2742d46b",
      "metadata": {
        "id": "2742d46b"
      },
      "source": [
        "Once again, take a look around and see what you can find. These clusters seem to be both detailed and nicely partitioned, bracketing off, for example, classical musicians and composers (cluster 7) from jazz and popular musicians (cluster 11).\n",
        "\n",
        "```{margin} What this loop does\n",
        "For each cluster:\n",
        "\n",
        "1. Subset the visualization data with that cluster and get all the people\n",
        "2. Convert the column into string and then split that string into chunks with `textwrap`\n",
        "3. Print to screen\n",
        "```"
      ]
    },
    {
      "cell_type": "code",
      "execution_count": null,
      "id": "e2e8c674",
      "metadata": {
        "id": "e2e8c674"
      },
      "outputs": [],
      "source": [
        "import textwrap\n",
        "\n",
        "for k in [7, 11]:\n",
        "    people = vis_data[vis_data['CLUSTER']==k]['LABEL']\n",
        "    people = ', '.join(person for person in people)\n",
        "    people = textwrap.wrap(people, 80)\n",
        "    print(f\"Cluster: {k:>2}\\n-----------\")\n",
        "    for entry in people:\n",
        "        print(entry)\n",
        "    print(\"\\n\")"
      ]
    },
    {
      "cell_type": "markdown",
      "id": "0a60c62d",
      "metadata": {
        "id": "0a60c62d"
      },
      "source": [
        "Consider further cluster 6, which seems to be about famous scientists.\n",
        "\n",
        "```{margin} What's going on with \"Martian Theory\"?\n",
        "It appears this is actually Percival Lowell, an astronomer (he did, however, advance the idea that Mars is inhabited). Apparently our metadata is a little messy!\n",
        "```"
      ]
    },
    {
      "cell_type": "code",
      "execution_count": null,
      "id": "8c608fda",
      "metadata": {
        "id": "8c608fda"
      },
      "outputs": [],
      "source": [
        "for person in vis_data[vis_data['CLUSTER']==6]['LABEL']:\n",
        "    print(person)"
      ]
    },
    {
      "cell_type": "markdown",
      "id": "66f3e967",
      "metadata": {
        "id": "66f3e967"
      },
      "source": [
        "There are, however, some interestingly noisy clusters, like cluster 13. With people like Queen Victoria and William McKinley in this cluster, it at first appears to be about national leaders of various sorts, but the inclusion of others like Al Capone (the ganster) and Ernie Pyle (a journalist) complicate this. If you take a closer look, what really seems to be tying these obituaries together is war. Nearly everyone here was involved in war in some fashion or another – save for Capone, whose inclusion makes for strange bedfellows."
      ]
    },
    {
      "cell_type": "code",
      "execution_count": null,
      "id": "4f945e56",
      "metadata": {
        "id": "4f945e56"
      },
      "outputs": [],
      "source": [
        "for person in vis_data[vis_data['CLUSTER']==13]['LABEL']:\n",
        "    print(person)"
      ]
    },
    {
      "cell_type": "markdown",
      "id": "722c23c1",
      "metadata": {
        "id": "722c23c1"
      },
      "source": [
        "Depending on your task, these detailed distinctions may not be so desirable. But for us, the document embeddings provide a wonderfully nuanced view of the kinds of people in the obituaries. From here, further exploration might involve focusing on misfits and outliers. Why, for example, is Capone in cluster 13? Or why is Lou Gehrig all by himself in his own cluster? Of course, we could always recluster this data, which would redraw such groupings, but perhaps there is something indeed significant about the way things are divided up as they stand. Word embeddings help bring us to a point where we can begin to undertake such investigations – what comes next depends on which questions we want to ask."
      ]
    }
  ],
  "metadata": {
    "celltoolbar": "Tags",
    "kernelspec": {
      "display_name": "Python 3",
      "name": "python3"
    },
    "language_info": {
      "name": "python"
    },
    "colab": {
      "provenance": []
    },
    "gpuClass": "standard"
  },
  "nbformat": 4,
  "nbformat_minor": 5
}