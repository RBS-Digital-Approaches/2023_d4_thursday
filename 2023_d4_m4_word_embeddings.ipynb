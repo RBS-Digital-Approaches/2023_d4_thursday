{
 "cells": [
  {
   "cell_type": "markdown",
   "metadata": {
    "id": "qoOltG3bKYpd"
   },
   "source": [
    "Preliminaries\n",
    "==============\n",
    "\n",
    "Mount your GDrive using the file browser OR run the code below:"
   ]
  },
  {
   "cell_type": "code",
   "execution_count": null,
   "metadata": {
    "id": "22N_CuM-KpNM"
   },
   "outputs": [],
   "source": [
    "from google.colab import drive\n",
    "drive.mount('/gdrive')"
   ]
  },
  {
   "cell_type": "markdown",
   "metadata": {
    "id": "SD4oamBY4vJq"
   },
   "source": [
    "The current Google Colab environment comes pre-loaded with an older version of the gensim package, which we'll use to interrogate an embeddings model.  So we'll also need to update gensim in our environment to the latest version."
   ]
  },
  {
   "cell_type": "code",
   "execution_count": null,
   "metadata": {
    "id": "S2hjFaIvygfn"
   },
   "outputs": [],
   "source": [
    "!pip install --upgrade gensim"
   ]
  },
  {
   "cell_type": "code",
   "execution_count": 14,
   "metadata": {},
   "outputs": [],
   "source": [
    "import pandas as pd"
   ]
  },
  {
   "cell_type": "markdown",
   "metadata": {
    "id": "c7ae298c"
   },
   "source": [
    "Word Embeddings\n",
    "===============\n",
    "\n",
    "Our sessions so far have worked off the idea of document annotation to produce new, sometimes highly useful metdata about texts. We've used this information for everything from information retrieval tasks to predictive classification. Along the way, we've also made some passing discussions about how such annotations work to quantify or identify the semantics of those tasks (our work with POS tags, for example). But what we haven't yet done is produce a model of semantic meaning ourselves. This is another core task of NLP, and there are several different ways to approach building a statistical representation of tokens' meanings. The present section discusses one of the most popular methods of doing so: **word embeddings** also known as **word vectors**. Below, we'll overview what word embeddings are, demonstrate how to build and use them, talk about important considerations regarding bias, and apply all this to a document clustering task.\n",
    "\n",
    "The corpus we'll use is Melanie Walsh’s [collection] of ~380 obituaries from the _New York Times_, which we also used in our TF-IDF text vectoring and classifiation and Topic Modeling sessions. Our return to it here is meant to chime with that discussion, for word embeddings enable us to perform a similar kind of text vectorization. Though, as we'll discuss, the resultant vectors will be considerably more feature-rich than what we could achieve with tf-idf alone.\n",
    "\n",
    "[collection]: https://melaniewalsh.github.io/Intro-Cultural-Analytics/00-Datasets/00-Datasets.html\n",
    "[in the context of tf-idf scores]: https://ucdavisdatalab.github.io/workshop_getting_started_with_textual_data/05_clustering-and-classification.html\n",
    "\n",
    "```{admonition} Learning objectives\n",
    "By the end of this chapter, you will be able to:\n",
    "+ Explain what word embeddings are\n",
    "+ Use `gensim` to train and load word embeddings models\n",
    "+ Identify and analyze word relationships in these models\n",
    "+ Recognize how bias can inhere in embeddings\n",
    "+ Encode documents with a word embeddings model\n",
    "```"
   ]
  },
  {
   "cell_type": "markdown",
   "metadata": {
    "id": "d784095c"
   },
   "source": [
    "Word Embeddings: Introduction\n",
    "-------------------------------------\n",
    "\n",
    "The word-embedding technique was first introduced in 2013, and it spawned a host of different variants that completely flooded the field of NLP until about 2018. In part, word embedding's popularity stems from the relatively simple intuition behind it, which is known as the **distributional hypothesis**: \"a word is characterized by the company it keeps\" (Firth). Words that appear in similar contexts, in other words, have similar meanings, and what word embeddings do is represent that context-specific information through a set of features. As a result, similar words share similar data representations, and we can leverage that similarity to explore the semantic space of a corpus, to encode documents with feature-rich data, and more.\n",
    "\n",
    "If you're familiar with [tf-idf vectors], the underlying data structure of word embeddings is the same: every word is represented by a vector of _n_ features. But a key difference lies in the **sparsity** of the vectors – or, in the case of word embeddings, the _lack_ of sparsity. As we saw in the last chapter, tf-idf vectors can suffer from the [curse of dimensionality], something that's compounded by the fact that such vectors must contain features for every word in corpus, regardless of whether a document has that word. This means tf-idf vectors are highly sparse: they contain many 0s. Word embeddings, on the other hand, do not. They're what we call **dense** representations. Each one is a fixed-length, non-sparse vector (of 50-300 dimensions, usually) that is much more information-rich than tf-idf. As a result, embeddings tend to be capable of representing more nuanced relationships between corpus words – a performance improvement that is further boosted by the fact that many of the most popular models had the advantage of being trained on billions and billions of tokens.\n",
    "\n",
    "The other major difference between these vectors and tf-idf lies in how the former are created. While at root, word embeddings represent token co-occurence data (just like a document-term matrix), they are the product of millions of guesses made by a neural network. Training this network involves making predictions about a target word, based on that word's context. We are not going to delve into the math behind these predictions (though [this post] does); however, it is worth noting that there are two different training set ups for a word embedding model:\n",
    "\n",
    "```{margin} For more on CBOW vs. skip-gram\n",
    "Check out this blog post, [Words as Vectors].\n",
    "\n",
    "[Words as Vectors]: https://iksinc.online/tag/continuous-bag-of-words-cbow/\n",
    "```\n",
    "\n",
    "1. **Common Bag of Words (CBOW)**: given a window of words on either side of a target, the network tries to predict what word the target should be\n",
    "2. **Skip-grams**: the network starts with the word in the middle of a window and picks random words within this window to use as its prediction targets\n",
    "\n",
    "As you may have noticed, these are just mirrored versions of one another. CBOW starts from context, while skip-gram tries to rebuild context. Regardless, in both cases the network attempts to maximize the likelihood of its predictions, updating its weights accordingly over the course of training. Words that repeatedly appear in similar contexts will help shape thse weights, and in turn the model will associate such words with similar vector representations. If you'd like to see all this in action, Xin Rong has produced a [fantastic, interactive visualization] of how word embedding models learn.\n",
    "\n",
    "Of course, the other way to understand how word embeddings work is to use them yourself. We'll move on to doing so now.\n",
    "\n",
    "[Transformer]: https://en.wikipedia.org/wiki/Transformer_(machine_learning_model)\n",
    "[tf-idf vectors]: https://ucdavisdatalab.github.io/workshop_getting_started_with_textual_data/04_corpus-analytics.html#weighted-metrics-tf-idf-scores\n",
    "[curse of dimensionality]: https://en.wikipedia.org/wiki/Curse_of_dimensionality\n",
    "[this post]: https://medium.com/analytics-vidhya/maths-behind-word2vec-explained-38d74f32726b\n",
    "[fantastic, interactive visualization]: https://ronxin.github.io/wevi/"
   ]
  },
  {
   "cell_type": "markdown",
   "metadata": {
    "id": "937ff353"
   },
   "source": [
    "Loading the Data\n",
    "--------------------\n",
    "\n",
    "Before we begin working with word embeddings in full, let's load a corpus manifest file, which will help us keep track of all the obituaries."
   ]
  },
  {
   "cell_type": "code",
   "execution_count": null,
   "metadata": {
    "id": "0ff68e34"
   },
   "outputs": [],
   "source": [
    "import pandas as pd\n",
    "\n",
    "manifest = pd.read_csv('/content/drive/MyDrive/rbs_digital_approaches_2022/nlp_workshop_data/session_three/manifest.csv', index_col=0)\n",
    "manifest = manifest.assign(YEAR = pd.to_datetime(manifest['YEAR'], format='%Y').dt.year)\n",
    "\n",
    "print(\n",
    "    f\"Number of obituaries: {len(manifest)}\",\n",
    "    f\"\\nDate range: {manifest['YEAR'].min()}--{manifest['YEAR'].max()}\"\n",
    ")"
   ]
  },
  {
   "cell_type": "code",
   "execution_count": null,
   "metadata": {
    "id": "9d9fb877"
   },
   "outputs": [],
   "source": [
    "manifest.groupby('YEAR').count().plot(\n",
    "    figsize=(15, 5),\n",
    "    y='NAME',\n",
    "    title='Obituaries per Year',\n",
    "    ylabel='Num. obituaries',\n",
    "    xlabel='Year',\n",
    "    legend=False\n",
    ");"
   ]
  },
  {
   "cell_type": "markdown",
   "metadata": {
    "id": "96ed7777"
   },
   "source": [
    "Here's a sampling of the corpus:"
   ]
  },
  {
   "cell_type": "code",
   "execution_count": null,
   "metadata": {
    "id": "18acb156"
   },
   "outputs": [],
   "source": [
    "for idx in manifest.sample(10).index:\n",
    "    name, date = manifest.loc[idx, 'NAME'], manifest.loc[idx, 'YEAR']\n",
    "    print(f\"{name} ({date})\")"
   ]
  },
  {
   "cell_type": "markdown",
   "metadata": {
    "id": "241bd292"
   },
   "source": [
    "Now we can load the obituaries themselves. For demonstration perposes, each of the files in the corpus have already been processed by the text cleaning pipeline that we instituted in our ealier sessions on tf-idf and topic modeling: they represent the lowercase, stopped, and lemmatized versions of the originals.\n",
    "\n",
    "No extra loading considerations are needed here either. We'll just use `glob` to get our file paths and iterate through the list, loading each document into a `corpus` list. Also note that here, for demonstration purposes, we are forgoing the use of a file manifest and that we still must split the file contents."
   ]
  },
  {
   "cell_type": "code",
   "execution_count": 4,
   "metadata": {
    "executionInfo": {
     "elapsed": 804,
     "status": "ok",
     "timestamp": 1657770039093,
     "user": {
      "displayName": "Carl Stahmer",
      "userId": "08270031735613254632"
     },
     "user_tz": 420
    },
    "id": "c2575e92"
   },
   "outputs": [],
   "source": [
    "import glob\n",
    "\n",
    "paths = glob.glob('/content/drive/MyDrive/rbs_digital_approaches_2022/nlp_workshop_data/session_three/obits/*.txt')\n",
    "paths.sort()\n",
    "\n",
    "corpus = []\n",
    "for path in paths:\n",
    "    with open(path, 'r') as fin:\n",
    "        doc = fin.read()\n",
    "        doc = doc.split()\n",
    "        corpus.append(doc)"
   ]
  },
  {
   "cell_type": "markdown",
   "metadata": {
    "id": "787d5031"
   },
   "source": [
    "With this done, we can move on to the model."
   ]
  },
  {
   "cell_type": "markdown",
   "metadata": {
    "id": "6b01442f"
   },
   "source": [
    "Using an Embeddings Model\n",
    "----------------------------------\n",
    "\n",
    "At this point, we are at a crossroads. On the one hand, we could train a word embeddings model using our corpus documents as is. The `gensim` library offers functionality for this, and it's a relatively easy operation. On the other, we could use premade embeddings, which are usually trained on a more general – and much larger – set of documents. There is a tradeoff here:\n",
    "\n",
    "+ Training a corpus-specific model will more faithfully represent the token behavior of the texts we'd like to analyze, but these representations could be _too_ specific, especially if the model doesn't have enough data to train on; the resultant embeddings may be closer to topic models than to word-level semantics\n",
    "+ Using premade embeddings gives us the benefit of generalization: the vectors will cleave more closely to how we understand language; but such embeddings might a) miss out on certain nuances we'd like to capture, or b) introduce biases into our corpus (more on this below)\n",
    "\n",
    "In our case, the decision is difficult. With this corpus, a model trained on the obituaries alone does not produce vectors that can fully demonstrate the capabilities of the word embedding technique. The corpus is just a little too specific and too small. We could've used a larger corpus, but doing so would introduce slow-downs in the workshop session. Because of this, for the analytic portions of this suession we wil use a premade model, in this case, the Stanford [GloVe] embeddings (the 200-dimension version). GloVe was trained on billions of tokens, spanning Wikipedia data, newswire articles, even Twitter.\n",
    "\n",
    "That said, going with GloVe introduces its own problems. For one thing, we can't show you how to train a word embeddings model itself – at least not live. The code to do so, however, is reproduced below:\n",
    "\n",
    "```{margin} Model parameters\n",
    "There are many different parameters to select from in `gensim`. You can find them in the [Word2Vec documentation].\n",
    "\n",
    "[Word2Vec documentation]: https://radimrehurek.com/gensim/models/word2vec.html#gensim.models.word2vec.Word2Vec\n",
    "```\n",
    "\n",
    "```python\n",
    "from gensim.models import Word2Vec\n",
    "\n",
    "n_dimensions = 100\n",
    "model = Word2Vec(n_dimensions)\n",
    "model.build_vocab(corpus)\n",
    "model.train(corpus, total_words=model.corpus_total_words, epochs=5)\n",
    "```\n",
    "\n",
    "Another problem has to do with the data GloVe was trained on. It's so large that we can't account for all the content, and this becomes particularly detrimental when it comes to bias. [Researchers have found] that general embeddings models reproduce gender-discriminatory language, even hate speech, by virtue of the fact that they are trained on huge amounts of text data, often without consideration of whether the content of such data is something one would endorse. GloVe is [known to be biased] in this way. We'll show an example later on in this chapter and will discuss this in much more detail during our live session, but for now just note that the effects of bias _do_ shape how we represent our corpus, and it's important to keep an eye out for this when working with the data.\n",
    "\n",
    "[GloVe]: https://nlp.stanford.edu/projects/glove/\n",
    "[Researchers have found]: https://www.technologyreview.com/2016/07/27/158634/how-vector-space-mathematics-reveals-the-hidden-sexism-in-language/\n",
    "[known to be biased]: http://arxiv.org/abs/1607.06520\n",
    "\n",
    "### Loading a model\n",
    "\n",
    "With all that said, we can move on. Below, we load GloVe embeddings into our workspace using a `gensim` wrapper."
   ]
  },
  {
   "cell_type": "code",
   "execution_count": 1,
   "metadata": {
    "executionInfo": {
     "elapsed": 2158,
     "status": "ok",
     "timestamp": 1657770055197,
     "user": {
      "displayName": "Carl Stahmer",
      "userId": "08270031735613254632"
     },
     "user_tz": 420
    },
    "id": "baa49bbd"
   },
   "outputs": [],
   "source": [
    "from gensim.models import KeyedVectors\n",
    "\n",
    "model = KeyedVectors.load('~/estc_vectors.kv')"
   ]
  },
  {
   "cell_type": "markdown",
   "metadata": {
    "id": "612e8a26"
   },
   "source": [
    "The `KeyedVectors` object acts almost like a dictionary. You can do certain Python operations directly on it, like using `len()` to find the number of tokens in the model."
   ]
  },
  {
   "cell_type": "code",
   "execution_count": 2,
   "metadata": {
    "id": "91a4669a"
   },
   "outputs": [
    {
     "name": "stdout",
     "output_type": "stream",
     "text": [
      "Number of unique tokens in the model: 44,721\n"
     ]
    }
   ],
   "source": [
    "n_tokens = len(model)\n",
    "\n",
    "print(f\"Number of unique tokens in the model: {n_tokens:,}\")"
   ]
  },
  {
   "cell_type": "markdown",
   "metadata": {
    "id": "042060a1"
   },
   "source": [
    "### Token mappings\n",
    "\n",
    "Each token in the model (what `gensim` calls a \"key\") has an associated index. This mapping is accessible via the `.key_to_index` attribute:"
   ]
  },
  {
   "cell_type": "code",
   "execution_count": 3,
   "metadata": {
    "id": "b82fb46d"
   },
   "outputs": [
    {
     "data": {
      "text/plain": [
       "{'the': 0,\n",
       " 'of': 1,\n",
       " 'and': 2,\n",
       " 'in': 3,\n",
       " 'to': 4,\n",
       " 'a': 5,\n",
       " 'The': 6,\n",
       " 'by': 7,\n",
       " 'for': 8,\n",
       " '...': 9,\n",
       " 'A': 10,\n",
       " 'By': 11,\n",
       " 'at': 12,\n",
       " 'on': 13,\n",
       " 'with': 14,\n",
       " 'from': 15,\n",
       " 'his': 16,\n",
       " 'is': 17,\n",
       " 'which': 18,\n",
       " 'or': 19,\n",
       " 'that': 20,\n",
       " 'an': 21,\n",
       " 'be': 22,\n",
       " 'all': 23,\n",
       " 'Mr.': 24,\n",
       " 'An': 25,\n",
       " 'their': 26,\n",
       " 'as': 27,\n",
       " 'are': 28,\n",
       " 'To': 29,\n",
       " 'John': 30,\n",
       " 'or,': 31,\n",
       " '&c.': 32,\n",
       " 'In': 33,\n",
       " 'With': 34,\n",
       " 'this': 35,\n",
       " 'His': 36,\n",
       " 'upon': 37,\n",
       " 'late': 38,\n",
       " 'most': 39,\n",
       " 'Lord': 40,\n",
       " 'other': 41,\n",
       " 'de': 42,\n",
       " '&': 43,\n",
       " 'several': 44,\n",
       " 'William': 45,\n",
       " 'new': 46,\n",
       " 'our': 47,\n",
       " 'being': 48,\n",
       " 'against': 49,\n",
       " 'account': 50,\n",
       " 'into': 51,\n",
       " 'day': 52,\n",
       " 'Thomas': 53,\n",
       " 'it': 54,\n",
       " 'two': 55,\n",
       " 'who': 56,\n",
       " 'year': 57,\n",
       " 'And': 58,\n",
       " 'some': 59,\n",
       " 'one': 60,\n",
       " 'present': 61,\n",
       " 'said': 62,\n",
       " 'letter': 63,\n",
       " 'English': 64,\n",
       " 'before': 65,\n",
       " 'St.': 66,\n",
       " '-': 67,\n",
       " 'Right': 68,\n",
       " 'sermon': 69,\n",
       " 'was': 70,\n",
       " 'true': 71,\n",
       " 'Sir': 72,\n",
       " 'now': 73,\n",
       " 'Honourable': 74,\n",
       " 'not': 75,\n",
       " 'first': 76,\n",
       " 'made': 77,\n",
       " 'King': 78,\n",
       " 'great': 79,\n",
       " 'they': 80,\n",
       " 'may': 81,\n",
       " 'added,': 82,\n",
       " 'concerning': 83,\n",
       " 'Esq;': 84,\n",
       " 'Lords': 85,\n",
       " 'have': 86,\n",
       " 'James': 87,\n",
       " 'will': 88,\n",
       " 'Being': 89,\n",
       " 'both': 90,\n",
       " 'any': 91,\n",
       " 'also': 92,\n",
       " 'I.': 93,\n",
       " 'D.': 94,\n",
       " 'Church': 95,\n",
       " 'preached': 96,\n",
       " 'George': 97,\n",
       " 'out': 98,\n",
       " 'county': 99,\n",
       " 'Written': 100,\n",
       " 'her': 101,\n",
       " \"Majesty's\": 102,\n",
       " 'act': 103,\n",
       " 'those': 104,\n",
       " 'many': 105,\n",
       " 'House': 106,\n",
       " 'history': 107,\n",
       " 'whole': 108,\n",
       " 'Of': 109,\n",
       " 'M.': 110,\n",
       " 'II.': 111,\n",
       " 'containing': 112,\n",
       " 'under': 113,\n",
       " 'Act': 114,\n",
       " 'Great': 115,\n",
       " 'General': 116,\n",
       " 'As': 117,\n",
       " 'three': 118,\n",
       " 'after': 119,\n",
       " '[sic]': 120,\n",
       " 'Dr.': 121,\n",
       " 'he': 122,\n",
       " 'use': 123,\n",
       " 'but': 124,\n",
       " 'state': 125,\n",
       " 'such': 126,\n",
       " 'second': 127,\n",
       " 'Published': 128,\n",
       " 'them': 129,\n",
       " 'London,': 130,\n",
       " 'England,': 131,\n",
       " 'last': 132,\n",
       " 'more': 133,\n",
       " 'Christian': 134,\n",
       " 'Containing': 135,\n",
       " 'Robert': 136,\n",
       " 'between': 137,\n",
       " 'French': 138,\n",
       " 'every': 139,\n",
       " 'et': 140,\n",
       " 'city': 141,\n",
       " 'life': 142,\n",
       " 'how': 143,\n",
       " 'according': 144,\n",
       " 'Parliament': 145,\n",
       " 'part': 146,\n",
       " 'Reverend': 147,\n",
       " 'collection': 148,\n",
       " 'general': 149,\n",
       " 'petition': 150,\n",
       " 'Rev.': 151,\n",
       " 'Royal': 152,\n",
       " 'Together': 153,\n",
       " 'Charles': 154,\n",
       " 'answer': 155,\n",
       " 'God,': 156,\n",
       " 'its': 157,\n",
       " 'Majesties': 158,\n",
       " 'what': 159,\n",
       " 'Wherein': 160,\n",
       " 'death': 161,\n",
       " 'III.': 162,\n",
       " 'God': 163,\n",
       " 'short': 164,\n",
       " 'Parliament,': 165,\n",
       " 'Henry': 166,\n",
       " 'D.D.': 167,\n",
       " 'Richard': 168,\n",
       " 'been': 169,\n",
       " 'added': 170,\n",
       " 'order': 171,\n",
       " 'common': 172,\n",
       " 'Esq.': 173,\n",
       " 'author': 174,\n",
       " 'Court': 175,\n",
       " 'New': 176,\n",
       " 'Earl': 177,\n",
       " 'On': 178,\n",
       " 'called': 179,\n",
       " 'London.': 180,\n",
       " 'At': 181,\n",
       " 'la': 182,\n",
       " 'way': 183,\n",
       " 'were': 184,\n",
       " 'published': 185,\n",
       " 'England.': 186,\n",
       " 'same': 187,\n",
       " 'time': 188,\n",
       " 'together': 189,\n",
       " 'Majesty': 190,\n",
       " 'so': 191,\n",
       " 'Translated': 192,\n",
       " '[blank]': 193,\n",
       " 'case': 194,\n",
       " 'within': 195,\n",
       " 'young': 196,\n",
       " 'set': 197,\n",
       " 'Bishop': 198,\n",
       " 'church': 199,\n",
       " 'A.': 200,\n",
       " 'written': 201,\n",
       " 'good': 202,\n",
       " 'volumes.': 203,\n",
       " 'discourse': 204,\n",
       " 'him': 205,\n",
       " 'very': 206,\n",
       " 'hundred': 207,\n",
       " 'near': 208,\n",
       " 'London': 209,\n",
       " 'these': 210,\n",
       " 'Also': 211,\n",
       " 'J.': 212,\n",
       " 'printed': 213,\n",
       " 'lines': 214,\n",
       " 'certain': 215,\n",
       " 'sold': 216,\n",
       " 'treatise': 217,\n",
       " 'Ireland,': 218,\n",
       " 'persons': 219,\n",
       " 'wherein': 220,\n",
       " 'necessary': 221,\n",
       " 'S.': 222,\n",
       " 'catalogue': 223,\n",
       " 'best': 224,\n",
       " 'four': 225,\n",
       " 'Samuel': 226,\n",
       " 'right': 227,\n",
       " 'lately': 228,\n",
       " 'Duke': 229,\n",
       " 'held': 230,\n",
       " 'minister': 231,\n",
       " 'original': 232,\n",
       " 'people': 233,\n",
       " 'useful': 234,\n",
       " \"preach'd\": 235,\n",
       " 'Commons': 236,\n",
       " 'each': 237,\n",
       " 'des': 238,\n",
       " 'forth': 239,\n",
       " 'United': 240,\n",
       " 'letters': 241,\n",
       " 'taken': 242,\n",
       " 'Edward': 243,\n",
       " 'England': 244,\n",
       " 'I': 245,\n",
       " 'observations': 246,\n",
       " 'proper': 247,\n",
       " 'delivered': 248,\n",
       " 'shall': 249,\n",
       " 'May': 250,\n",
       " 'Council': 251,\n",
       " 'relation': 252,\n",
       " 'well': 253,\n",
       " 'March': 254,\n",
       " 'Christ': 255,\n",
       " 'manner': 256,\n",
       " 'translated': 257,\n",
       " 'performed': 258,\n",
       " 'about': 259,\n",
       " 'third': 260,\n",
       " 'R.': 261,\n",
       " 'For': 262,\n",
       " 'shewing': 263,\n",
       " 'relating': 264,\n",
       " 'A.M.': 265,\n",
       " 'particular': 266,\n",
       " 'book': 267,\n",
       " 'parish': 268,\n",
       " 'Parliament.': 269,\n",
       " 'various': 270,\n",
       " 'Commissioners': 271,\n",
       " 'IV.': 272,\n",
       " 'list': 273,\n",
       " 'Mrs.': 274,\n",
       " 'thousand': 275,\n",
       " 'address': 276,\n",
       " 'excellent': 277,\n",
       " 'no': 278,\n",
       " 'parts.': 279,\n",
       " 'description': 280,\n",
       " 'without': 281,\n",
       " 'Scotland,': 282,\n",
       " 'Her': 283,\n",
       " 'you': 284,\n",
       " 'Joseph': 285,\n",
       " 'following': 286,\n",
       " 'M.A.': 287,\n",
       " 'hath': 288,\n",
       " 'town': 289,\n",
       " 'divers': 290,\n",
       " 'making': 291,\n",
       " 'art': 292,\n",
       " 'Holy': 293,\n",
       " 'seven': 294,\n",
       " 'five': 295,\n",
       " 'ad': 296,\n",
       " '.': 297,\n",
       " 'nature': 298,\n",
       " 'sermon,': 299,\n",
       " 'own': 300,\n",
       " 'years': 301,\n",
       " 'has': 302,\n",
       " 'ancient': 303,\n",
       " 'appointed': 304,\n",
       " 'viz.': 305,\n",
       " 'British': 306,\n",
       " 'plain': 307,\n",
       " 'Part': 308,\n",
       " 'Or,': 309,\n",
       " 'proceedings': 310,\n",
       " 'Latin': 311,\n",
       " 'case.': 312,\n",
       " 'my': 313,\n",
       " 'humble': 314,\n",
       " 'April': 315,\n",
       " 'Ireland.': 316,\n",
       " 'Society': 317,\n",
       " 'full': 318,\n",
       " 'brief': 319,\n",
       " 'bill': 320,\n",
       " 'humbly': 321,\n",
       " \"King's\": 322,\n",
       " 'old': 323,\n",
       " 'only': 324,\n",
       " 'had': 325,\n",
       " 'Francis': 326,\n",
       " 'method': 327,\n",
       " 'up': 328,\n",
       " 'essay': 329,\n",
       " 'edition.': 330,\n",
       " 'famous': 331,\n",
       " 'Most': 332,\n",
       " 'rules': 333,\n",
       " 'passed': 334,\n",
       " 'there': 335,\n",
       " 'much': 336,\n",
       " 'Alexander': 337,\n",
       " 'make': 338,\n",
       " 'Christ,': 339,\n",
       " 'Some': 340,\n",
       " 'learned': 341,\n",
       " 'reign': 342,\n",
       " 'Jesus': 343,\n",
       " 'parts': 344,\n",
       " 'public': 345,\n",
       " 'Minister': 346,\n",
       " 'acted': 347,\n",
       " 'Assembly': 348,\n",
       " 'remarkable': 349,\n",
       " '1.': 350,\n",
       " 'man': 351,\n",
       " 'Unto': 352,\n",
       " 'when': 353,\n",
       " 'De': 354,\n",
       " 'speech': 355,\n",
       " 'Title': 356,\n",
       " 'honourable': 357,\n",
       " 'University': 358,\n",
       " 'large': 359,\n",
       " 'From': 360,\n",
       " 'declaration': 361,\n",
       " 'remarks': 362,\n",
       " 'Known': 363,\n",
       " 'unto': 364,\n",
       " 'Utitled': 365,\n",
       " 'principal': 366,\n",
       " 'Iohn': 367,\n",
       " 'Wednesday': 368,\n",
       " 'since': 369,\n",
       " 'collected': 370,\n",
       " 'things': 371,\n",
       " 'January': 372,\n",
       " 'July': 373,\n",
       " 'Majesty,': 374,\n",
       " 'June': 375,\n",
       " 'of,': 376,\n",
       " 'inhabitants': 377,\n",
       " 'better': 378,\n",
       " 'works': 379,\n",
       " '2.': 380,\n",
       " 'Kings': 381,\n",
       " 'view': 382,\n",
       " 'le': 383,\n",
       " 'M.D.': 384,\n",
       " 'publick': 385,\n",
       " 'presented': 386,\n",
       " 'sent': 387,\n",
       " 'Commons,': 388,\n",
       " 'directions': 389,\n",
       " 'Which': 390,\n",
       " 'over': 391,\n",
       " 'holy': 392,\n",
       " 'duty': 393,\n",
       " 'V.': 394,\n",
       " 'where': 395,\n",
       " 'others,': 396,\n",
       " 'former': 397,\n",
       " 'six': 398,\n",
       " 'Fellow': 399,\n",
       " 'Before': 400,\n",
       " 'curious': 401,\n",
       " 'it.': 402,\n",
       " 'gentleman': 403,\n",
       " 'Mr': 404,\n",
       " 'principles': 405,\n",
       " 'different': 406,\n",
       " '3.': 407,\n",
       " 'during': 408,\n",
       " 'edition,': 409,\n",
       " 'eminent': 410,\n",
       " 'given': 411,\n",
       " 'Account': 412,\n",
       " 'divine': 413,\n",
       " 'men': 414,\n",
       " ':': 415,\n",
       " 'Gospel': 416,\n",
       " 'tune': 417,\n",
       " 'particularly': 418,\n",
       " 'December': 419,\n",
       " 'vindication': 420,\n",
       " 'Mary': 421,\n",
       " 'October': 422,\n",
       " 'defence': 423,\n",
       " 'begun': 424,\n",
       " 'your': 425,\n",
       " 'through': 426,\n",
       " 'Observations': 427,\n",
       " 'number': 428,\n",
       " 'That': 429,\n",
       " 'Westminster,': 430,\n",
       " 'King,': 431,\n",
       " 'doctrine': 432,\n",
       " 'exact': 433,\n",
       " 'we': 434,\n",
       " 'Old': 435,\n",
       " 'life,': 436,\n",
       " 'then': 437,\n",
       " 'further': 438,\n",
       " 'worthy': 439,\n",
       " 'Edinburgh,': 440,\n",
       " 'than': 441,\n",
       " 'Prince': 442,\n",
       " 'W.': 443,\n",
       " 'David': 444,\n",
       " 'she': 445,\n",
       " 'November': 446,\n",
       " 'poem.': 447,\n",
       " 'words': 448,\n",
       " 'per': 449,\n",
       " 'Session,': 450,\n",
       " 'complete': 451,\n",
       " 'copy': 452,\n",
       " 'private': 453,\n",
       " 'names': 454,\n",
       " 'sermons': 455,\n",
       " 'almanack': 456,\n",
       " 'modern': 457,\n",
       " 'benefit': 458,\n",
       " 'never': 459,\n",
       " 'assembled': 460,\n",
       " 'historical': 461,\n",
       " 'table': 462,\n",
       " 'practical': 463,\n",
       " 'officers': 464,\n",
       " 'laws': 465,\n",
       " 'Thursday': 466,\n",
       " 'a?': 467,\n",
       " 'books': 468,\n",
       " 'person': 469,\n",
       " 'Also,': 470,\n",
       " 'Christ.': 471,\n",
       " 'les': 472,\n",
       " 'B.': 473,\n",
       " 'High': 474,\n",
       " 'used': 475,\n",
       " 'February': 476,\n",
       " 'court': 477,\n",
       " 'T.': 478,\n",
       " 'Theatre': 479,\n",
       " 'Queen': 480,\n",
       " 'easy': 481,\n",
       " 'Britain,': 482,\n",
       " 'en': 483,\n",
       " 'yet': 484,\n",
       " 'Master': 485,\n",
       " 'Monday': 486,\n",
       " 'religion,': 487,\n",
       " 'Author': 488,\n",
       " 'love': 489,\n",
       " 'notes': 490,\n",
       " 'Rector': 491,\n",
       " 'read': 492,\n",
       " 'having': 493,\n",
       " 'intituled,': 494,\n",
       " 'reasons': 495,\n",
       " 'high': 496,\n",
       " 'Illustrated': 497,\n",
       " 'government': 498,\n",
       " 'May,': 499,\n",
       " 'Late': 500,\n",
       " 'proclamation': 501,\n",
       " 'Whereas': 502,\n",
       " 'down': 503,\n",
       " 'others': 504,\n",
       " 'du': 505,\n",
       " 'natural': 506,\n",
       " 'master.': 507,\n",
       " 'also,': 508,\n",
       " 'consideration': 509,\n",
       " 'American': 510,\n",
       " 'und': 511,\n",
       " 'variety': 512,\n",
       " 'anno': 513,\n",
       " 'law': 514,\n",
       " 'Pastor': 515,\n",
       " 'religion': 516,\n",
       " 'members': 517,\n",
       " 'Doctor': 518,\n",
       " 'Grace': 519,\n",
       " 'country': 520,\n",
       " 'province': 521,\n",
       " 'Two': 522,\n",
       " 'France,': 523,\n",
       " 'Church,': 524,\n",
       " 'Hon.': 525,\n",
       " 'them.': 526,\n",
       " 'published.': 527,\n",
       " 'Protestant': 528,\n",
       " 'August': 529,\n",
       " 'Oxford.': 530,\n",
       " 'ministers': 531,\n",
       " 'session': 532,\n",
       " 'fourth': 533,\n",
       " 'Calculated': 534,\n",
       " 'Shewing': 535,\n",
       " 'Chaplain': 536,\n",
       " 'Cambridge.': 537,\n",
       " 'committee': 538,\n",
       " 'First': 539,\n",
       " 'taking': 540,\n",
       " 'friend': 541,\n",
       " 'Excellency': 542,\n",
       " 'found': 543,\n",
       " 'Appeals': 544,\n",
       " 'above': 545,\n",
       " 'offered': 546,\n",
       " 'whom': 547,\n",
       " 'them,': 548,\n",
       " 'Esquire,': 549,\n",
       " 'ex': 550,\n",
       " 'Remarks': 551,\n",
       " 'continued': 552,\n",
       " 'meeting': 553,\n",
       " 'Tuesday': 554,\n",
       " 'places': 555,\n",
       " 'VI.': 556,\n",
       " 'Peter': 557,\n",
       " 'duties': 558,\n",
       " 'sundry': 559,\n",
       " 'gracious': 560,\n",
       " 'serve': 561,\n",
       " 'auction,': 562,\n",
       " 'College': 563,\n",
       " 'Anno': 564,\n",
       " '4.': 565,\n",
       " 'same.': 566,\n",
       " 'royal': 567,\n",
       " 'next': 568,\n",
       " 'November,': 569,\n",
       " 'March,': 570,\n",
       " 'especially': 571,\n",
       " 'appeal': 572,\n",
       " 'Friday': 573,\n",
       " 'sacred': 574,\n",
       " 'This': 575,\n",
       " 'English,': 576,\n",
       " 'edition': 577,\n",
       " 'holden': 578,\n",
       " 'tragedy.': 579,\n",
       " 'conduct': 580,\n",
       " 'serious': 581,\n",
       " 'City': 582,\n",
       " 'laid': 583,\n",
       " 'Britain': 584,\n",
       " 'October,': 585,\n",
       " 'do': 586,\n",
       " 'request': 587,\n",
       " 'sung': 588,\n",
       " 'narrative': 589,\n",
       " 'practice': 590,\n",
       " 'throughout': 591,\n",
       " 'prefixed,': 592,\n",
       " 'Tho.': 593,\n",
       " 'P.': 594,\n",
       " 'Gods': 595,\n",
       " 'Majesty.': 596,\n",
       " 'Scripture': 597,\n",
       " 'among': 598,\n",
       " 'member': 599,\n",
       " 'brought': 600,\n",
       " 'Scotland.': 601,\n",
       " 'appellant.': 602,\n",
       " 'peace': 603,\n",
       " 'children': 604,\n",
       " 'Theatre-Royal': 605,\n",
       " 'poor': 606,\n",
       " 'Causes.': 607,\n",
       " 'September': 608,\n",
       " 'grace': 609,\n",
       " 'choice': 610,\n",
       " 'Father': 611,\n",
       " 'Prize': 612,\n",
       " 'house': 613,\n",
       " 'nature,': 614,\n",
       " 'till': 615,\n",
       " 'King.': 616,\n",
       " 'son': 617,\n",
       " 'behalf': 618,\n",
       " 'meridian': 619,\n",
       " 'God.': 620,\n",
       " 'pleasant': 621,\n",
       " 'Oxford,': 622,\n",
       " 'Containing,': 623,\n",
       " 'Boston,': 624,\n",
       " 'relative': 625,\n",
       " 'F.': 626,\n",
       " 'Or': 627,\n",
       " 'Houses': 628,\n",
       " 'December,': 629,\n",
       " 'report': 630,\n",
       " 'place': 631,\n",
       " 'fifth': 632,\n",
       " 'Acts': 633,\n",
       " 'par': 634,\n",
       " 'January,': 635,\n",
       " 'whose': 636,\n",
       " 'twenty': 637,\n",
       " 'introduction': 638,\n",
       " 'epistle': 639,\n",
       " 'books.': 640,\n",
       " 'sur': 641,\n",
       " 'June,': 642,\n",
       " 'Collected': 643,\n",
       " 'desire': 644,\n",
       " 'Noble': 645,\n",
       " 'religious': 646,\n",
       " 'towards': 647,\n",
       " 'Use': 648,\n",
       " 'Captain': 649,\n",
       " 'prevent': 650,\n",
       " 'appendix,': 651,\n",
       " 'Letters': 652,\n",
       " 'little': 653,\n",
       " 'contained': 654,\n",
       " 'themselves': 655,\n",
       " 'gentlemen': 656,\n",
       " 'word': 657,\n",
       " 'sorts': 658,\n",
       " 'comedy.': 659,\n",
       " 'chief': 660,\n",
       " 'respondents.': 661,\n",
       " 'Roman': 662,\n",
       " 'power': 663,\n",
       " 'truth': 664,\n",
       " 'Their': 665,\n",
       " 'Company': 666,\n",
       " 'end': 667,\n",
       " 'dialogue': 668,\n",
       " 'touching': 669,\n",
       " 'intended': 670,\n",
       " 'money': 671,\n",
       " 'severall': 672,\n",
       " 'estate': 673,\n",
       " 'means': 674,\n",
       " 'universal': 675,\n",
       " 'Answers': 676,\n",
       " 'it,': 677,\n",
       " 'tables': 678,\n",
       " 'States': 679,\n",
       " 'special': 680,\n",
       " 'vpon': 681,\n",
       " 'religion.': 682,\n",
       " 'charge': 683,\n",
       " 'put': 684,\n",
       " 'consisting': 685,\n",
       " 'Gent.': 686,\n",
       " 'open': 687,\n",
       " 'noble': 688,\n",
       " 'celebrated': 689,\n",
       " 'History': 690,\n",
       " 'C.': 691,\n",
       " 'Lord,': 692,\n",
       " 'free': 693,\n",
       " 'work': 694,\n",
       " 'Lady': 695,\n",
       " 'Whereunto': 696,\n",
       " 'College,': 697,\n",
       " 'N.': 698,\n",
       " 'All': 699,\n",
       " 'books,': 700,\n",
       " 'world,': 701,\n",
       " 'happy': 702,\n",
       " 'corrected': 703,\n",
       " 'illustrated': 704,\n",
       " 'spiritual': 705,\n",
       " 'therein': 706,\n",
       " 'world.': 707,\n",
       " 'occasion': 708,\n",
       " 'H.': 709,\n",
       " 'passages': 710,\n",
       " 'France': 711,\n",
       " 'advice': 712,\n",
       " 'perfect': 713,\n",
       " 'times': 714,\n",
       " 'trade': 715,\n",
       " 'compleat': 716,\n",
       " 'Saint': 717,\n",
       " 'take': 718,\n",
       " 'subjects': 719,\n",
       " 'either': 720,\n",
       " 'February,': 721,\n",
       " 'valuable': 722,\n",
       " 'kingdom': 723,\n",
       " 'chiefly': 724,\n",
       " 'life.': 725,\n",
       " 'State': 726,\n",
       " 'Sunday': 727,\n",
       " 'occasioned': 728,\n",
       " 'should': 729,\n",
       " 'ac': 730,\n",
       " 'thereof.': 731,\n",
       " 'Set': 732,\n",
       " 'select': 733,\n",
       " 'history,': 734,\n",
       " 'false': 735,\n",
       " 'April,': 736,\n",
       " 'like': 737,\n",
       " 'if': 738,\n",
       " 'pro': 739,\n",
       " 'ordinance': 740,\n",
       " 'matters': 741,\n",
       " 'Who': 742,\n",
       " 'prayer,': 743,\n",
       " \"appellant's\": 744,\n",
       " 'genuine': 745,\n",
       " 'command': 746,\n",
       " 'order.': 747,\n",
       " 'One': 748,\n",
       " 'Highness': 749,\n",
       " 'sale': 750,\n",
       " 'lord': 751,\n",
       " 'grounds': 752,\n",
       " '/': 753,\n",
       " '[sic],': 754,\n",
       " 'cum': 755,\n",
       " 'adventures': 756,\n",
       " 'human': 757,\n",
       " 'important': 758,\n",
       " '2': 759,\n",
       " 'come': 760,\n",
       " 'thereof,': 761,\n",
       " 'Lieutenant': 762,\n",
       " 'Letter': 763,\n",
       " 'English.': 764,\n",
       " 'belonging': 765,\n",
       " 'poem': 766,\n",
       " 'causes': 767,\n",
       " 'substance': 768,\n",
       " 'Andrew': 769,\n",
       " 'Par': 770,\n",
       " 'preacher': 771,\n",
       " 'Dublin,': 772,\n",
       " 'impartial': 773,\n",
       " 'America.': 774,\n",
       " 'just': 775,\n",
       " \"Lord's\": 776,\n",
       " 'Daniel': 777,\n",
       " 'North': 778,\n",
       " 'County': 779,\n",
       " 'faithful': 780,\n",
       " 'reply': 781,\n",
       " 'moral': 782,\n",
       " 'prayer': 783,\n",
       " 'merchant': 784,\n",
       " 'Maiesties': 785,\n",
       " 'character': 786,\n",
       " 'cases': 787,\n",
       " 'fully': 788,\n",
       " 'Common': 789,\n",
       " 'cause': 790,\n",
       " 'Now': 791,\n",
       " 'men,': 792,\n",
       " 'articles': 793,\n",
       " 'approved': 794,\n",
       " 'form': 795,\n",
       " 'almanack,': 796,\n",
       " 'inclosing': 797,\n",
       " 'lands': 798,\n",
       " 'F.R.S.': 799,\n",
       " 'Rules': 800,\n",
       " 'churches': 801,\n",
       " 'far': 802,\n",
       " 'Covent-Garden.': 803,\n",
       " 'French,': 804,\n",
       " 'betwixt': 805,\n",
       " 'der': 806,\n",
       " 'commissioners': 807,\n",
       " 'foreign': 808,\n",
       " 'Reasons': 809,\n",
       " 'America,': 810,\n",
       " 'Vol.': 811,\n",
       " 'can': 812,\n",
       " 'wife,': 813,\n",
       " 'godly': 814,\n",
       " 'name': 815,\n",
       " 'booke': 816,\n",
       " 'reverend': 817,\n",
       " 'Honorable': 818,\n",
       " 'prayers': 819,\n",
       " 'discovery': 820,\n",
       " 'acts': 821,\n",
       " 'Humbly': 822,\n",
       " 'others.': 823,\n",
       " 'small': 824,\n",
       " 'Cambridge,': 825,\n",
       " 'system': 826,\n",
       " 'die': 827,\n",
       " 'Benjamin': 828,\n",
       " 'o': 829,\n",
       " '5.': 830,\n",
       " 'necessity': 831,\n",
       " 'July,': 832,\n",
       " 'addressed': 833,\n",
       " 'is,': 834,\n",
       " 'knowledge': 835,\n",
       " 'newly': 836,\n",
       " 'office': 837,\n",
       " 'beginning': 838,\n",
       " 'qui': 839,\n",
       " 'few': 840,\n",
       " 'annexed': 841,\n",
       " 'August,': 842,\n",
       " 'Society,': 843,\n",
       " 'grand': 844,\n",
       " 'subject': 845,\n",
       " 'done': 846,\n",
       " 'ten': 847,\n",
       " 'known': 848,\n",
       " 'liberty': 849,\n",
       " 'Thursday,': 850,\n",
       " 'Christians': 851,\n",
       " 'blessed': 852,\n",
       " 'eight': 853,\n",
       " 'composed': 854,\n",
       " 'morning': 855,\n",
       " 'author.': 856,\n",
       " 'line': 857,\n",
       " 'political': 858,\n",
       " 'funeral': 859,\n",
       " 'would': 860,\n",
       " 'persons,': 861,\n",
       " 'Le': 862,\n",
       " 'Theatre-Royal,': 863,\n",
       " 'Isaac': 864,\n",
       " 'Irish': 865,\n",
       " 'cure': 866,\n",
       " 'acts.': 867,\n",
       " 'Directions': 868,\n",
       " 'man,': 869,\n",
       " 'peace,': 870,\n",
       " 'civil': 871,\n",
       " 'calculated': 872,\n",
       " 'world': 873,\n",
       " \"Publish'd\": 874,\n",
       " 'granted': 875,\n",
       " 'giving': 876,\n",
       " 'appendix': 877,\n",
       " 'songs,': 878,\n",
       " 'Day': 879,\n",
       " 'wonderful': 880,\n",
       " 'familiar': 881,\n",
       " 'exposition': 882,\n",
       " 'adapted': 883,\n",
       " 'committed': 884,\n",
       " 'trial': 885,\n",
       " 'land': 886,\n",
       " 'Elizabeth': 887,\n",
       " 'ship': 888,\n",
       " 'respective': 889,\n",
       " 'spirit': 890,\n",
       " 'counties': 891,\n",
       " 'ever': 892,\n",
       " 'faith': 893,\n",
       " 'Articles': 894,\n",
       " 'due': 895,\n",
       " 'letters,': 896,\n",
       " 'church,': 897,\n",
       " 'y': 898,\n",
       " 'La': 899,\n",
       " 'Britain.': 900,\n",
       " 'give': 901,\n",
       " 'army': 902,\n",
       " 'death.': 903,\n",
       " 'Three': 904,\n",
       " 'L.': 905,\n",
       " 'improvement': 906,\n",
       " 'Psalms': 907,\n",
       " 'vol.': 908,\n",
       " 'long': 909,\n",
       " 'How': 910,\n",
       " 'Honourable,': 911,\n",
       " 'course': 912,\n",
       " 'formerly': 913,\n",
       " 'Drury-Lane.': 914,\n",
       " 'proposed': 915,\n",
       " 'year,': 916,\n",
       " 'reflections': 917,\n",
       " 'instant': 918,\n",
       " 'Professor': 919,\n",
       " 'Edmund': 920,\n",
       " 'Philadelphia,': 921,\n",
       " '6.': 922,\n",
       " 'Ordered': 923,\n",
       " 'glorious': 924,\n",
       " 'guide': 925,\n",
       " 'Whole': 926,\n",
       " 'war': 927,\n",
       " 'profitable': 928,\n",
       " 'dividing': 929,\n",
       " 'people,': 930,\n",
       " 'Wednesday,': 931,\n",
       " 'book,': 932,\n",
       " 'series': 933,\n",
       " 'execution': 934,\n",
       " 'rector': 935,\n",
       " 'body': 936,\n",
       " 'received': 937,\n",
       " 'fellow': 938,\n",
       " 'G.': 939,\n",
       " 'ou': 940,\n",
       " 'likewise': 941,\n",
       " 'published,': 942,\n",
       " 'faith,': 943,\n",
       " 'effects': 944,\n",
       " 'raising': 945,\n",
       " 'greatest': 946,\n",
       " 'whether': 947,\n",
       " 'sermons,': 948,\n",
       " 'commonly': 949,\n",
       " 'latitude': 950,\n",
       " 'Book': 951,\n",
       " 'forthwith': 952,\n",
       " 'Given': 953,\n",
       " 'executed': 954,\n",
       " 'here': 955,\n",
       " 'observed': 956,\n",
       " 'Monsieur': 957,\n",
       " 'authors': 958,\n",
       " 'law,': 959,\n",
       " 'instructions': 960,\n",
       " 'songs': 961,\n",
       " 'death,': 962,\n",
       " 'diseases': 963,\n",
       " 'Monday,': 964,\n",
       " 'estates': 965,\n",
       " 'whereby': 966,\n",
       " 'Committee': 967,\n",
       " 'time.': 968,\n",
       " 'respect': 969,\n",
       " 'Second': 970,\n",
       " 'Philip': 971,\n",
       " 'September,': 972,\n",
       " 'Printed': 973,\n",
       " 'Scotland': 974,\n",
       " 'questions': 975,\n",
       " 'wife': 976,\n",
       " 'citizens': 977,\n",
       " 'days': 978,\n",
       " 'government,': 979,\n",
       " 'proved': 980,\n",
       " \"God's\": 981,\n",
       " 'papers': 982,\n",
       " 'evening': 983,\n",
       " 'authority': 984,\n",
       " 'Preached': 985,\n",
       " 'visitation': 986,\n",
       " 'progress': 987,\n",
       " 'regulating': 988,\n",
       " 'gent.': 989,\n",
       " 'another': 990,\n",
       " 'Friday,': 991,\n",
       " 'Sunday,': 992,\n",
       " 'twelve': 993,\n",
       " 'interest': 994,\n",
       " 'Wales,': 995,\n",
       " 'pretended': 996,\n",
       " 'Miss': 997,\n",
       " 'Vicar': 998,\n",
       " 'him,': 999,\n",
       " ...}"
      ]
     },
     "execution_count": 3,
     "metadata": {},
     "output_type": "execute_result"
    }
   ],
   "source": [
    "model.key_to_index"
   ]
  },
  {
   "cell_type": "markdown",
   "metadata": {
    "id": "7843d4e5"
   },
   "source": [
    "If you want to get the vector representation for a token, you can use either the key or the index. The syntax is just like a Python dictionary. Below, we randomly select a single token from the model vocabulary's `.index_to_key` attribute and find the index associated with it."
   ]
  },
  {
   "cell_type": "code",
   "execution_count": 4,
   "metadata": {
    "id": "0b78a292"
   },
   "outputs": [
    {
     "name": "stdout",
     "output_type": "stream",
     "text": [
      "The index position for 'church-catechism;' is 40423\n"
     ]
    }
   ],
   "source": [
    "import random\n",
    "\n",
    "rand_token = random.choice(model.index_to_key)\n",
    "rand_idx = model.key_to_index[rand_token]\n",
    "\n",
    "print(f\"The index position for '{rand_token}' is {rand_idx}\")"
   ]
  },
  {
   "cell_type": "markdown",
   "metadata": {
    "id": "ce3faa4d"
   },
   "source": [
    "Here's its vector:"
   ]
  },
  {
   "cell_type": "code",
   "execution_count": 5,
   "metadata": {
    "id": "29dd6a22",
    "scrolled": true,
    "tags": [
     "output_scroll"
    ]
   },
   "outputs": [
    {
     "data": {
      "text/plain": [
       "array([-5.70862927e-03, -1.33481305e-02,  3.23085226e-02,  6.97142631e-03,\n",
       "       -8.73323157e-03, -1.82167850e-02, -2.02227123e-02,  4.75008823e-02,\n",
       "       -3.52476686e-02,  5.56792133e-02, -1.88121181e-02, -3.16595496e-03,\n",
       "       -2.33052410e-02,  1.32035399e-02, -8.42893124e-03,  2.55607534e-02,\n",
       "        1.28857484e-02, -1.82746295e-02, -7.65345199e-03, -5.82167739e-03,\n",
       "        2.67808959e-02,  1.68807115e-02,  2.29667220e-02,  4.80142869e-02,\n",
       "       -1.07718380e-02, -1.15012722e-02, -1.66429076e-02,  3.72506641e-02,\n",
       "        2.45385095e-02, -3.82035933e-02, -6.11247635e-03,  1.02562960e-02,\n",
       "       -2.24740021e-02, -6.63561048e-03, -3.76092866e-02,  1.14537291e-02,\n",
       "        6.43050969e-02, -1.74017120e-02,  1.80914402e-02,  1.42833712e-02,\n",
       "       -5.01399338e-02, -9.75505740e-04,  1.33385211e-02,  3.35457809e-02,\n",
       "       -1.00062881e-02,  1.75217865e-03, -4.22832780e-02,  1.25392862e-02,\n",
       "        2.75270566e-02, -1.98554262e-04,  5.39634097e-03,  3.77082005e-02,\n",
       "       -4.58236504e-03, -1.16422754e-02,  1.12703899e-02, -2.25118827e-02,\n",
       "       -1.13440147e-02,  4.03808206e-02, -1.74962496e-03,  3.97026725e-02,\n",
       "       -3.42261866e-02, -1.81253981e-02,  4.18377407e-02, -1.54577205e-02,\n",
       "        1.92144215e-02, -4.92493529e-03, -1.87844620e-03,  2.72775162e-02,\n",
       "       -2.00620964e-02, -2.30002608e-02,  2.83283144e-02,  3.88092250e-02,\n",
       "        2.30088346e-02, -4.28425781e-02,  2.03505959e-02,  4.87721944e-03,\n",
       "        3.23503986e-02,  2.26023956e-03, -4.01966907e-02, -3.72159518e-02,\n",
       "        4.01179772e-03, -1.74756199e-02,  1.46286059e-02,  1.49133205e-02,\n",
       "       -2.83833519e-02,  6.92388136e-03,  2.22903043e-02,  3.95041294e-02,\n",
       "        9.74148326e-03, -2.15980578e-02, -7.10840477e-03,  2.35460754e-02,\n",
       "       -5.72275231e-03,  2.23014271e-03,  5.23829721e-02,  1.98667254e-02,\n",
       "        1.35254767e-02,  5.53882821e-03,  1.27468361e-02, -1.87268835e-02,\n",
       "       -1.82764102e-02,  3.26077105e-03,  3.95136001e-03, -1.80974193e-02,\n",
       "       -8.62544775e-03, -9.71250795e-03, -2.18791515e-03, -8.16794299e-03,\n",
       "       -7.08133774e-03, -1.42137157e-02, -5.41313458e-03,  3.38874869e-02,\n",
       "       -9.54036880e-03, -1.76440775e-02, -1.56646557e-02,  4.11448851e-02,\n",
       "        1.86835472e-02,  2.03753784e-02, -3.60313654e-02, -3.00005283e-02,\n",
       "       -1.48417586e-02,  1.44538498e-02,  5.88870868e-02, -3.92015427e-02,\n",
       "       -1.17643829e-02,  8.35979730e-03,  2.32572928e-02,  1.00306701e-02,\n",
       "       -5.00119999e-02, -1.49687426e-03,  2.68168766e-02, -2.35122424e-02,\n",
       "        7.60625210e-03,  1.67987347e-02,  2.74055190e-02,  3.03192792e-05,\n",
       "       -3.35235661e-03,  1.54876066e-02,  4.44658194e-03, -1.08401729e-02,\n",
       "        1.45318033e-02, -1.11370608e-02, -5.18274046e-02,  1.66613981e-02,\n",
       "        8.18146914e-02,  1.09035550e-02,  2.10519060e-02,  1.40742781e-02,\n",
       "        4.48629670e-02, -2.53384933e-03], dtype=float32)"
      ]
     },
     "execution_count": 5,
     "metadata": {},
     "output_type": "execute_result"
    }
   ],
   "source": [
    "model.vectors[rand_idx]"
   ]
  },
  {
   "cell_type": "markdown",
   "metadata": {
    "id": "c7a9c9b7"
   },
   "source": [
    "Finally, we can store the entire model vocabulary in a `set` and show a few examples of the tokens therein."
   ]
  },
  {
   "cell_type": "code",
   "execution_count": 6,
   "metadata": {
    "id": "e50e56cc"
   },
   "outputs": [
    {
     "name": "stdout",
     "output_type": "stream",
     "text": [
      "Urry,\n",
      "T.M.\n",
      "trials,\n",
      "I.R.\n",
      "Clarkson,\n",
      "P.B.\n",
      "burnt\n",
      "expressing\n",
      "Bulls,\n",
      "Israel:\n"
     ]
    }
   ],
   "source": [
    "model_vocab = set(model.index_to_key)\n",
    "\n",
    "for token in random.sample(model_vocab, 10):\n",
    "    print(token)"
   ]
  },
  {
   "cell_type": "markdown",
   "metadata": {
    "id": "ce4de567"
   },
   "source": [
    "You may find some unexpected tokens in this output. Though it has been ostensibly trained on an English corpus, GloVe contains multilingual text. It also contains lots of noisy tokens, which range from erroneous segmentations (\"drummer/percussionist\" is one token, for example) to password-like strings and even HTML markup. Depending on your task, you may not notice these tokens, but they do in fact influence the overall shape of the model, and sometimes you'll find them cropping up when you're hunting around for similar terms and the like (more on this soon)."
   ]
  },
  {
   "cell_type": "markdown",
   "metadata": {
    "id": "b0ae401f"
   },
   "source": [
    "### Out-of-vocabulary tokens\n",
    "\n",
    "While GloVe's vocabulary sometimes seems _too_ expansive, there are other instances where it's too restricted."
   ]
  },
  {
   "cell_type": "code",
   "execution_count": 7,
   "metadata": {
    "executionInfo": {
     "elapsed": 292,
     "status": "ok",
     "timestamp": 1657770141618,
     "user": {
      "displayName": "Carl Stahmer",
      "userId": "08270031735613254632"
     },
     "user_tz": 420
    },
    "id": "Qag3CZJFsoPm"
   },
   "outputs": [
    {
     "ename": "AssertionError",
     "evalue": "Not in vocabulary!",
     "output_type": "error",
     "traceback": [
      "\u001b[0;31m---------------------------------------------------------------------------\u001b[0m",
      "\u001b[0;31mAssertionError\u001b[0m                            Traceback (most recent call last)",
      "\u001b[0;32m<ipython-input-7-9484557bd99d>\u001b[0m in \u001b[0;36m<module>\u001b[0;34m\u001b[0m\n\u001b[0;32m----> 1\u001b[0;31m \u001b[0;32massert\u001b[0m \u001b[0;34m'esparza'\u001b[0m \u001b[0;32min\u001b[0m \u001b[0mmodel\u001b[0m\u001b[0;34m,\u001b[0m \u001b[0;34m\"Not in vocabulary!\"\u001b[0m\u001b[0;34m\u001b[0m\u001b[0;34m\u001b[0m\u001b[0m\n\u001b[0m",
      "\u001b[0;31mAssertionError\u001b[0m: Not in vocabulary!"
     ]
    }
   ],
   "source": [
    "assert 'esparza' in model, \"Not in vocabulary!\""
   ]
  },
  {
   "cell_type": "code",
   "execution_count": 8,
   "metadata": {
    "id": "4abca184",
    "tags": [
     "raises-exception"
    ]
   },
   "outputs": [
    {
     "ename": "AssertionError",
     "evalue": "Not in vocabulary!",
     "output_type": "error",
     "traceback": [
      "\u001b[0;31m---------------------------------------------------------------------------\u001b[0m",
      "\u001b[0;31mAssertionError\u001b[0m                            Traceback (most recent call last)",
      "\u001b[0;32m<ipython-input-8-0307ff7764f4>\u001b[0m in \u001b[0;36m<module>\u001b[0;34m\u001b[0m\n\u001b[0;32m----> 1\u001b[0;31m \u001b[0;32massert\u001b[0m \u001b[0;34m'unshaped'\u001b[0m \u001b[0;32min\u001b[0m \u001b[0mmodel\u001b[0m\u001b[0;34m,\u001b[0m \u001b[0;34m\"Not in vocabulary!\"\u001b[0m\u001b[0;34m\u001b[0m\u001b[0;34m\u001b[0m\u001b[0m\n\u001b[0m",
      "\u001b[0;31mAssertionError\u001b[0m: Not in vocabulary!"
     ]
    }
   ],
   "source": [
    "assert 'unshaped' in model, \"Not in vocabulary!\""
   ]
  },
  {
   "cell_type": "markdown",
   "metadata": {
    "id": "842c8da8"
   },
   "source": [
    "If the model wasn't trained on a particular word, it won't have a corresponding vector for that word either. This is crucial. Because models like GloVe only know what they've been trained on, you need to be aware of any potential discrepancies between their vocabularies and your corpus data. If you don't keep this in mind, sending unseen, or **out-of-vocabulary**, tokens to GloVe will throw errors in your code:"
   ]
  },
  {
   "cell_type": "code",
   "execution_count": 9,
   "metadata": {
    "id": "9210b8a9",
    "tags": [
     "raises-exception"
    ]
   },
   "outputs": [
    {
     "ename": "KeyError",
     "evalue": "\"Key 'esparza' not present\"",
     "output_type": "error",
     "traceback": [
      "\u001b[0;31m---------------------------------------------------------------------------\u001b[0m",
      "\u001b[0;31mKeyError\u001b[0m                                  Traceback (most recent call last)",
      "\u001b[0;32m<ipython-input-9-62990775005a>\u001b[0m in \u001b[0;36m<module>\u001b[0;34m\u001b[0m\n\u001b[0;32m----> 1\u001b[0;31m \u001b[0mmodel\u001b[0m\u001b[0;34m[\u001b[0m\u001b[0;34m'esparza'\u001b[0m\u001b[0;34m]\u001b[0m\u001b[0;34m\u001b[0m\u001b[0;34m\u001b[0m\u001b[0m\n\u001b[0m",
      "\u001b[0;32m/Applications/anaconda3/lib/python3.7/site-packages/gensim/models/keyedvectors.py\u001b[0m in \u001b[0;36m__getitem__\u001b[0;34m(self, key_or_keys)\u001b[0m\n\u001b[1;32m    402\u001b[0m         \"\"\"\n\u001b[1;32m    403\u001b[0m         \u001b[0;32mif\u001b[0m \u001b[0misinstance\u001b[0m\u001b[0;34m(\u001b[0m\u001b[0mkey_or_keys\u001b[0m\u001b[0;34m,\u001b[0m \u001b[0m_KEY_TYPES\u001b[0m\u001b[0;34m)\u001b[0m\u001b[0;34m:\u001b[0m\u001b[0;34m\u001b[0m\u001b[0;34m\u001b[0m\u001b[0m\n\u001b[0;32m--> 404\u001b[0;31m             \u001b[0;32mreturn\u001b[0m \u001b[0mself\u001b[0m\u001b[0;34m.\u001b[0m\u001b[0mget_vector\u001b[0m\u001b[0;34m(\u001b[0m\u001b[0mkey_or_keys\u001b[0m\u001b[0;34m)\u001b[0m\u001b[0;34m\u001b[0m\u001b[0;34m\u001b[0m\u001b[0m\n\u001b[0m\u001b[1;32m    405\u001b[0m \u001b[0;34m\u001b[0m\u001b[0m\n\u001b[1;32m    406\u001b[0m         \u001b[0;32mreturn\u001b[0m \u001b[0mvstack\u001b[0m\u001b[0;34m(\u001b[0m\u001b[0;34m[\u001b[0m\u001b[0mself\u001b[0m\u001b[0;34m.\u001b[0m\u001b[0mget_vector\u001b[0m\u001b[0;34m(\u001b[0m\u001b[0mkey\u001b[0m\u001b[0;34m)\u001b[0m \u001b[0;32mfor\u001b[0m \u001b[0mkey\u001b[0m \u001b[0;32min\u001b[0m \u001b[0mkey_or_keys\u001b[0m\u001b[0;34m]\u001b[0m\u001b[0;34m)\u001b[0m\u001b[0;34m\u001b[0m\u001b[0;34m\u001b[0m\u001b[0m\n",
      "\u001b[0;32m/Applications/anaconda3/lib/python3.7/site-packages/gensim/models/keyedvectors.py\u001b[0m in \u001b[0;36mget_vector\u001b[0;34m(self, key, norm)\u001b[0m\n\u001b[1;32m    445\u001b[0m \u001b[0;34m\u001b[0m\u001b[0m\n\u001b[1;32m    446\u001b[0m         \"\"\"\n\u001b[0;32m--> 447\u001b[0;31m         \u001b[0mindex\u001b[0m \u001b[0;34m=\u001b[0m \u001b[0mself\u001b[0m\u001b[0;34m.\u001b[0m\u001b[0mget_index\u001b[0m\u001b[0;34m(\u001b[0m\u001b[0mkey\u001b[0m\u001b[0;34m)\u001b[0m\u001b[0;34m\u001b[0m\u001b[0;34m\u001b[0m\u001b[0m\n\u001b[0m\u001b[1;32m    448\u001b[0m         \u001b[0;32mif\u001b[0m \u001b[0mnorm\u001b[0m\u001b[0;34m:\u001b[0m\u001b[0;34m\u001b[0m\u001b[0;34m\u001b[0m\u001b[0m\n\u001b[1;32m    449\u001b[0m             \u001b[0mself\u001b[0m\u001b[0;34m.\u001b[0m\u001b[0mfill_norms\u001b[0m\u001b[0;34m(\u001b[0m\u001b[0;34m)\u001b[0m\u001b[0;34m\u001b[0m\u001b[0;34m\u001b[0m\u001b[0m\n",
      "\u001b[0;32m/Applications/anaconda3/lib/python3.7/site-packages/gensim/models/keyedvectors.py\u001b[0m in \u001b[0;36mget_index\u001b[0;34m(self, key, default)\u001b[0m\n\u001b[1;32m    419\u001b[0m             \u001b[0;32mreturn\u001b[0m \u001b[0mdefault\u001b[0m\u001b[0;34m\u001b[0m\u001b[0;34m\u001b[0m\u001b[0m\n\u001b[1;32m    420\u001b[0m         \u001b[0;32melse\u001b[0m\u001b[0;34m:\u001b[0m\u001b[0;34m\u001b[0m\u001b[0;34m\u001b[0m\u001b[0m\n\u001b[0;32m--> 421\u001b[0;31m             \u001b[0;32mraise\u001b[0m \u001b[0mKeyError\u001b[0m\u001b[0;34m(\u001b[0m\u001b[0;34mf\"Key '{key}' not present\"\u001b[0m\u001b[0;34m)\u001b[0m\u001b[0;34m\u001b[0m\u001b[0;34m\u001b[0m\u001b[0m\n\u001b[0m\u001b[1;32m    422\u001b[0m \u001b[0;34m\u001b[0m\u001b[0m\n\u001b[1;32m    423\u001b[0m     \u001b[0;32mdef\u001b[0m \u001b[0mget_vector\u001b[0m\u001b[0;34m(\u001b[0m\u001b[0mself\u001b[0m\u001b[0;34m,\u001b[0m \u001b[0mkey\u001b[0m\u001b[0;34m,\u001b[0m \u001b[0mnorm\u001b[0m\u001b[0;34m=\u001b[0m\u001b[0;32mFalse\u001b[0m\u001b[0;34m)\u001b[0m\u001b[0;34m:\u001b[0m\u001b[0;34m\u001b[0m\u001b[0;34m\u001b[0m\u001b[0m\n",
      "\u001b[0;31mKeyError\u001b[0m: \"Key 'esparza' not present\""
     ]
    }
   ],
   "source": [
    "model['esparza']"
   ]
  },
  {
   "cell_type": "code",
   "execution_count": 10,
   "metadata": {
    "id": "mdp2hycqzc5u"
   },
   "outputs": [
    {
     "ename": "KeyError",
     "evalue": "\"Key 'unshaped' not present\"",
     "output_type": "error",
     "traceback": [
      "\u001b[0;31m---------------------------------------------------------------------------\u001b[0m",
      "\u001b[0;31mKeyError\u001b[0m                                  Traceback (most recent call last)",
      "\u001b[0;32m<ipython-input-10-1954045a4617>\u001b[0m in \u001b[0;36m<module>\u001b[0;34m\u001b[0m\n\u001b[0;32m----> 1\u001b[0;31m \u001b[0mmodel\u001b[0m\u001b[0;34m[\u001b[0m\u001b[0;34m'unshaped'\u001b[0m\u001b[0;34m]\u001b[0m\u001b[0;34m\u001b[0m\u001b[0;34m\u001b[0m\u001b[0m\n\u001b[0m",
      "\u001b[0;32m/Applications/anaconda3/lib/python3.7/site-packages/gensim/models/keyedvectors.py\u001b[0m in \u001b[0;36m__getitem__\u001b[0;34m(self, key_or_keys)\u001b[0m\n\u001b[1;32m    402\u001b[0m         \"\"\"\n\u001b[1;32m    403\u001b[0m         \u001b[0;32mif\u001b[0m \u001b[0misinstance\u001b[0m\u001b[0;34m(\u001b[0m\u001b[0mkey_or_keys\u001b[0m\u001b[0;34m,\u001b[0m \u001b[0m_KEY_TYPES\u001b[0m\u001b[0;34m)\u001b[0m\u001b[0;34m:\u001b[0m\u001b[0;34m\u001b[0m\u001b[0;34m\u001b[0m\u001b[0m\n\u001b[0;32m--> 404\u001b[0;31m             \u001b[0;32mreturn\u001b[0m \u001b[0mself\u001b[0m\u001b[0;34m.\u001b[0m\u001b[0mget_vector\u001b[0m\u001b[0;34m(\u001b[0m\u001b[0mkey_or_keys\u001b[0m\u001b[0;34m)\u001b[0m\u001b[0;34m\u001b[0m\u001b[0;34m\u001b[0m\u001b[0m\n\u001b[0m\u001b[1;32m    405\u001b[0m \u001b[0;34m\u001b[0m\u001b[0m\n\u001b[1;32m    406\u001b[0m         \u001b[0;32mreturn\u001b[0m \u001b[0mvstack\u001b[0m\u001b[0;34m(\u001b[0m\u001b[0;34m[\u001b[0m\u001b[0mself\u001b[0m\u001b[0;34m.\u001b[0m\u001b[0mget_vector\u001b[0m\u001b[0;34m(\u001b[0m\u001b[0mkey\u001b[0m\u001b[0;34m)\u001b[0m \u001b[0;32mfor\u001b[0m \u001b[0mkey\u001b[0m \u001b[0;32min\u001b[0m \u001b[0mkey_or_keys\u001b[0m\u001b[0;34m]\u001b[0m\u001b[0;34m)\u001b[0m\u001b[0;34m\u001b[0m\u001b[0;34m\u001b[0m\u001b[0m\n",
      "\u001b[0;32m/Applications/anaconda3/lib/python3.7/site-packages/gensim/models/keyedvectors.py\u001b[0m in \u001b[0;36mget_vector\u001b[0;34m(self, key, norm)\u001b[0m\n\u001b[1;32m    445\u001b[0m \u001b[0;34m\u001b[0m\u001b[0m\n\u001b[1;32m    446\u001b[0m         \"\"\"\n\u001b[0;32m--> 447\u001b[0;31m         \u001b[0mindex\u001b[0m \u001b[0;34m=\u001b[0m \u001b[0mself\u001b[0m\u001b[0;34m.\u001b[0m\u001b[0mget_index\u001b[0m\u001b[0;34m(\u001b[0m\u001b[0mkey\u001b[0m\u001b[0;34m)\u001b[0m\u001b[0;34m\u001b[0m\u001b[0;34m\u001b[0m\u001b[0m\n\u001b[0m\u001b[1;32m    448\u001b[0m         \u001b[0;32mif\u001b[0m \u001b[0mnorm\u001b[0m\u001b[0;34m:\u001b[0m\u001b[0;34m\u001b[0m\u001b[0;34m\u001b[0m\u001b[0m\n\u001b[1;32m    449\u001b[0m             \u001b[0mself\u001b[0m\u001b[0;34m.\u001b[0m\u001b[0mfill_norms\u001b[0m\u001b[0;34m(\u001b[0m\u001b[0;34m)\u001b[0m\u001b[0;34m\u001b[0m\u001b[0;34m\u001b[0m\u001b[0m\n",
      "\u001b[0;32m/Applications/anaconda3/lib/python3.7/site-packages/gensim/models/keyedvectors.py\u001b[0m in \u001b[0;36mget_index\u001b[0;34m(self, key, default)\u001b[0m\n\u001b[1;32m    419\u001b[0m             \u001b[0;32mreturn\u001b[0m \u001b[0mdefault\u001b[0m\u001b[0;34m\u001b[0m\u001b[0;34m\u001b[0m\u001b[0m\n\u001b[1;32m    420\u001b[0m         \u001b[0;32melse\u001b[0m\u001b[0;34m:\u001b[0m\u001b[0;34m\u001b[0m\u001b[0;34m\u001b[0m\u001b[0m\n\u001b[0;32m--> 421\u001b[0;31m             \u001b[0;32mraise\u001b[0m \u001b[0mKeyError\u001b[0m\u001b[0;34m(\u001b[0m\u001b[0;34mf\"Key '{key}' not present\"\u001b[0m\u001b[0;34m)\u001b[0m\u001b[0;34m\u001b[0m\u001b[0;34m\u001b[0m\u001b[0m\n\u001b[0m\u001b[1;32m    422\u001b[0m \u001b[0;34m\u001b[0m\u001b[0m\n\u001b[1;32m    423\u001b[0m     \u001b[0;32mdef\u001b[0m \u001b[0mget_vector\u001b[0m\u001b[0;34m(\u001b[0m\u001b[0mself\u001b[0m\u001b[0;34m,\u001b[0m \u001b[0mkey\u001b[0m\u001b[0;34m,\u001b[0m \u001b[0mnorm\u001b[0m\u001b[0;34m=\u001b[0m\u001b[0;32mFalse\u001b[0m\u001b[0;34m)\u001b[0m\u001b[0;34m:\u001b[0m\u001b[0;34m\u001b[0m\u001b[0;34m\u001b[0m\u001b[0m\n",
      "\u001b[0;31mKeyError\u001b[0m: \"Key 'unshaped' not present\""
     ]
    }
   ],
   "source": [
    "model['unshaped']"
   ]
  },
  {
   "cell_type": "markdown",
   "metadata": {
    "id": "dd017ccd"
   },
   "source": [
    "There are a few ways to handle this problem. The most common is to simply _not encode_ tokens in your corpus that don't have a corresponding vector in GloVe. Below, we construct three dictionaries for our corpus data. The first contains all tokens, while the second and third are comprised of tokens that are and are not in Glove, respectively. We identify whether the model has a token using its `.has_index_for()` method."
   ]
  },
  {
   "cell_type": "code",
   "execution_count": 11,
   "metadata": {
    "id": "e92e2e24"
   },
   "outputs": [
    {
     "ename": "NameError",
     "evalue": "name 'corpus' is not defined",
     "output_type": "error",
     "traceback": [
      "\u001b[0;31m---------------------------------------------------------------------------\u001b[0m",
      "\u001b[0;31mNameError\u001b[0m                                 Traceback (most recent call last)",
      "\u001b[0;32m<ipython-input-11-27310ac83404>\u001b[0m in \u001b[0;36m<module>\u001b[0;34m\u001b[0m\n\u001b[0;32m----> 1\u001b[0;31m \u001b[0mcorpus_vocab\u001b[0m \u001b[0;34m=\u001b[0m \u001b[0mset\u001b[0m\u001b[0;34m(\u001b[0m\u001b[0mtoken\u001b[0m \u001b[0;32mfor\u001b[0m \u001b[0mdoc\u001b[0m \u001b[0;32min\u001b[0m \u001b[0mcorpus\u001b[0m \u001b[0;32mfor\u001b[0m \u001b[0mtoken\u001b[0m \u001b[0;32min\u001b[0m \u001b[0mdoc\u001b[0m\u001b[0;34m)\u001b[0m\u001b[0;34m\u001b[0m\u001b[0;34m\u001b[0m\u001b[0m\n\u001b[0m\u001b[1;32m      2\u001b[0m \u001b[0min_glove\u001b[0m \u001b[0;34m=\u001b[0m \u001b[0mset\u001b[0m\u001b[0;34m(\u001b[0m\u001b[0mtoken\u001b[0m \u001b[0;32mfor\u001b[0m \u001b[0mtoken\u001b[0m \u001b[0;32min\u001b[0m \u001b[0mcorpus_vocab\u001b[0m \u001b[0;32mif\u001b[0m \u001b[0mmodel\u001b[0m\u001b[0;34m.\u001b[0m\u001b[0mhas_index_for\u001b[0m\u001b[0;34m(\u001b[0m\u001b[0mtoken\u001b[0m\u001b[0;34m)\u001b[0m\u001b[0;34m)\u001b[0m\u001b[0;34m\u001b[0m\u001b[0;34m\u001b[0m\u001b[0m\n\u001b[1;32m      3\u001b[0m \u001b[0mno_glove\u001b[0m \u001b[0;34m=\u001b[0m \u001b[0mset\u001b[0m\u001b[0;34m(\u001b[0m\u001b[0mtoken\u001b[0m \u001b[0;32mfor\u001b[0m \u001b[0mtoken\u001b[0m \u001b[0;32min\u001b[0m \u001b[0mcorpus_vocab\u001b[0m \u001b[0;32mif\u001b[0m \u001b[0mmodel\u001b[0m\u001b[0;34m.\u001b[0m\u001b[0mhas_index_for\u001b[0m\u001b[0;34m(\u001b[0m\u001b[0mtoken\u001b[0m\u001b[0;34m)\u001b[0m \u001b[0;34m==\u001b[0m \u001b[0;32mFalse\u001b[0m\u001b[0;34m)\u001b[0m\u001b[0;34m\u001b[0m\u001b[0;34m\u001b[0m\u001b[0m\n\u001b[1;32m      4\u001b[0m \u001b[0;34m\u001b[0m\u001b[0m\n\u001b[1;32m      5\u001b[0m print(\n",
      "\u001b[0;31mNameError\u001b[0m: name 'corpus' is not defined"
     ]
    }
   ],
   "source": [
    "corpus_vocab = set(token for doc in corpus for token in doc)\n",
    "in_glove = set(token for token in corpus_vocab if model.has_index_for(token))\n",
    "no_glove = set(token for token in corpus_vocab if model.has_index_for(token) == False)\n",
    "\n",
    "print(\n",
    "    f\"Total words in the corpus vocabulary: {len(corpus_vocab):,}\",\n",
    "    f\"\\nNumber of corpus words in GloVe: {len(in_glove):,}\",\n",
    "    f\"\\nNumber of corpus words not in GloVe: {len(no_glove):,}\"\n",
    ")"
   ]
  },
  {
   "cell_type": "markdown",
   "metadata": {
    "id": "7ac92b5f"
   },
   "source": [
    "Any subsequent code we write will need to reference these dictionaries to determine whether it should encode a token.\n",
    "\n",
    "While this is what we'll indeed do below, obviously it isn't an ideal situation. But it's one of the consequences of using premade models. There are, however, a few other ways to handle out-of-vocabulary terms. Some models offer special \"UNK\" tokens, which you could associate with all of your problem tokens. This, at the very least, enables you to have _some_ representation of your data. A more complex approach involves taking the mean embedding of the word vectors surrounding an unknown token; and depending on the model, you can also train it further, adding extra tokens from your domain-specific text. Instructions for this last option are available [here] in the `gensim` documentation.\n",
    "\n",
    "[here]: https://radimrehurek.com/gensim/models/word2vec.html#usage-examples"
   ]
  },
  {
   "cell_type": "markdown",
   "metadata": {
    "id": "268817e9"
   },
   "source": [
    "Word relationships\n",
    "----------------------\n",
    "\n",
    "Later on we'll use GloVe to encode our corpus texts. But before we do, it's worth demonstrating more generally some of the properties of word vectors. Vector representations of text allow us to perform various mathematical operations on our corpus that approximate (though maybe _only_ approximate) semantics. The most common among these operations is finding the **cosine similarity** between two vectors. Our Getting Started with Textual Data series has a whole [chapter] on this measure, so if you haven't encountered it before, we recommend you read that. But in short: cosine similarity measures the difference between vectors' orientation in a feature space (here, the feature space is comprised of each of the vectors' 200 dimentions). The closer two vectors are, the more likely they are to share semantic similarities.\n",
    "\n",
    "[chapter]: https://ucdavisdatalab.github.io/workshop_getting_started_with_textual_data/05_clustering-and-classification.html#\n",
    "\n",
    "### Cosine similarity\n",
    "\n",
    "`gensim` provides easy access to this measure and other such vector space operations, and we can use this functionality to explore relationships between words in a model. To find the cosine similarity between the vectors for two words in GloVe, simply use the model's `.similarity()` method:"
   ]
  },
  {
   "cell_type": "code",
   "execution_count": 12,
   "metadata": {
    "id": "f4c30643"
   },
   "outputs": [
    {
     "name": "stdout",
     "output_type": "stream",
     "text": [
      "Consine similarity score for 'god' and 'king': 0.5709\n"
     ]
    }
   ],
   "source": [
    "a, b = 'god', 'king'\n",
    "sim = model.similarity(a, b)\n",
    "\n",
    "print(f\"Consine similarity score for '{a}' and '{b}': {sim:0.4f}\")"
   ]
  },
  {
   "cell_type": "markdown",
   "metadata": {
    "id": "db7bc5ae"
   },
   "source": [
    "The only difference between the score above and the one that you might produce, say, with `scikit-learn`'s cosine similarity implementation is that `gensim` bounds its values from `[-1,1]`, whereas the latter uses a `[0,1]` scale. While in `gensim` it's still the case that similar words score closer to `1`, highly dissimilar words will be closer to `-1`.\n",
    "\n",
    "At any rate, we can get the top _n_ most similar words for a word using `.most_similar()`. The function defaults to 10 entries, but you can change that with the `topn` paramter."
   ]
  },
  {
   "cell_type": "code",
   "execution_count": 18,
   "metadata": {
    "id": "412f067b"
   },
   "outputs": [
    {
     "name": "stdout",
     "output_type": "stream",
     "text": [
      "Tokens most similar to 'good':\n"
     ]
    },
    {
     "data": {
      "text/html": [
       "<div>\n",
       "<style scoped>\n",
       "    .dataframe tbody tr th:only-of-type {\n",
       "        vertical-align: middle;\n",
       "    }\n",
       "\n",
       "    .dataframe tbody tr th {\n",
       "        vertical-align: top;\n",
       "    }\n",
       "\n",
       "    .dataframe thead th {\n",
       "        text-align: right;\n",
       "    }\n",
       "</style>\n",
       "<table border=\"1\" class=\"dataframe\">\n",
       "  <thead>\n",
       "    <tr style=\"text-align: right;\">\n",
       "      <th></th>\n",
       "      <th>WORD</th>\n",
       "      <th>SCORE</th>\n",
       "    </tr>\n",
       "  </thead>\n",
       "  <tbody>\n",
       "    <tr>\n",
       "      <th>0</th>\n",
       "      <td>Duty,</td>\n",
       "      <td>0.862411</td>\n",
       "    </tr>\n",
       "    <tr>\n",
       "      <th>1</th>\n",
       "      <td>necessity</td>\n",
       "      <td>0.848188</td>\n",
       "    </tr>\n",
       "    <tr>\n",
       "      <th>2</th>\n",
       "      <td>with</td>\n",
       "      <td>0.843640</td>\n",
       "    </tr>\n",
       "    <tr>\n",
       "      <th>3</th>\n",
       "      <td>God,</td>\n",
       "      <td>0.842049</td>\n",
       "    </tr>\n",
       "    <tr>\n",
       "      <th>4</th>\n",
       "      <td>...</td>\n",
       "      <td>0.831795</td>\n",
       "    </tr>\n",
       "    <tr>\n",
       "      <th>5</th>\n",
       "      <td>dealing</td>\n",
       "      <td>0.822570</td>\n",
       "    </tr>\n",
       "    <tr>\n",
       "      <th>6</th>\n",
       "      <td>July</td>\n",
       "      <td>0.815165</td>\n",
       "    </tr>\n",
       "    <tr>\n",
       "      <th>7</th>\n",
       "      <td>Perkins</td>\n",
       "      <td>0.812576</td>\n",
       "    </tr>\n",
       "    <tr>\n",
       "      <th>8</th>\n",
       "      <td>religion</td>\n",
       "      <td>0.812063</td>\n",
       "    </tr>\n",
       "    <tr>\n",
       "      <th>9</th>\n",
       "      <td>allen</td>\n",
       "      <td>0.808958</td>\n",
       "    </tr>\n",
       "  </tbody>\n",
       "</table>\n",
       "</div>"
      ],
      "text/plain": [
       "        WORD     SCORE\n",
       "0      Duty,  0.862411\n",
       "1  necessity  0.848188\n",
       "2       with  0.843640\n",
       "3       God,  0.842049\n",
       "4        ...  0.831795\n",
       "5    dealing  0.822570\n",
       "6       July  0.815165\n",
       "7    Perkins  0.812576\n",
       "8   religion  0.812063\n",
       "9      allen  0.808958"
      ]
     },
     "metadata": {},
     "output_type": "display_data"
    },
    {
     "name": "stdout",
     "output_type": "stream",
     "text": [
      "Tokens most similar to 'evil':\n"
     ]
    },
    {
     "data": {
      "text/html": [
       "<div>\n",
       "<style scoped>\n",
       "    .dataframe tbody tr th:only-of-type {\n",
       "        vertical-align: middle;\n",
       "    }\n",
       "\n",
       "    .dataframe tbody tr th {\n",
       "        vertical-align: top;\n",
       "    }\n",
       "\n",
       "    .dataframe thead th {\n",
       "        text-align: right;\n",
       "    }\n",
       "</style>\n",
       "<table border=\"1\" class=\"dataframe\">\n",
       "  <thead>\n",
       "    <tr style=\"text-align: right;\">\n",
       "      <th></th>\n",
       "      <th>WORD</th>\n",
       "      <th>SCORE</th>\n",
       "    </tr>\n",
       "  </thead>\n",
       "  <tbody>\n",
       "    <tr>\n",
       "      <th>0</th>\n",
       "      <td>duorum</td>\n",
       "      <td>0.968976</td>\n",
       "    </tr>\n",
       "    <tr>\n",
       "      <th>1</th>\n",
       "      <td>Bess</td>\n",
       "      <td>0.963792</td>\n",
       "    </tr>\n",
       "    <tr>\n",
       "      <th>2</th>\n",
       "      <td>140</td>\n",
       "      <td>0.962226</td>\n",
       "    </tr>\n",
       "    <tr>\n",
       "      <th>3</th>\n",
       "      <td>emergencies</td>\n",
       "      <td>0.958172</td>\n",
       "    </tr>\n",
       "    <tr>\n",
       "      <th>4</th>\n",
       "      <td>Amelia</td>\n",
       "      <td>0.956763</td>\n",
       "    </tr>\n",
       "    <tr>\n",
       "      <th>5</th>\n",
       "      <td>messuages</td>\n",
       "      <td>0.956489</td>\n",
       "    </tr>\n",
       "    <tr>\n",
       "      <th>6</th>\n",
       "      <td>treasury</td>\n",
       "      <td>0.954779</td>\n",
       "    </tr>\n",
       "    <tr>\n",
       "      <th>7</th>\n",
       "      <td>vain</td>\n",
       "      <td>0.953120</td>\n",
       "    </tr>\n",
       "    <tr>\n",
       "      <th>8</th>\n",
       "      <td>Italienne</td>\n",
       "      <td>0.952619</td>\n",
       "    </tr>\n",
       "    <tr>\n",
       "      <th>9</th>\n",
       "      <td>Taylor.</td>\n",
       "      <td>0.952215</td>\n",
       "    </tr>\n",
       "  </tbody>\n",
       "</table>\n",
       "</div>"
      ],
      "text/plain": [
       "          WORD     SCORE\n",
       "0       duorum  0.968976\n",
       "1         Bess  0.963792\n",
       "2          140  0.962226\n",
       "3  emergencies  0.958172\n",
       "4       Amelia  0.956763\n",
       "5    messuages  0.956489\n",
       "6     treasury  0.954779\n",
       "7         vain  0.953120\n",
       "8    Italienne  0.952619\n",
       "9      Taylor.  0.952215"
      ]
     },
     "metadata": {},
     "output_type": "display_data"
    }
   ],
   "source": [
    "targets = ['good', 'evil']\n",
    "\n",
    "for token in targets:\n",
    "    similarities = model.most_similar(token)\n",
    "    print(f\"Tokens most similar to '{token}':\")\n",
    "    df = pd.DataFrame(similarities, columns=['WORD', 'SCORE'])\n",
    "    display(df)\n",
    "    print(\"\")"
   ]
  },
  {
   "cell_type": "markdown",
   "metadata": {
    "id": "0b3983f5"
   },
   "source": [
    "We can also find the _least_ similar word. This is useful to show, because it pressures our idea of what counts as similarity. Mathematical similarity does not always align with concepts like synonyms and antonyms. For example, it's probably safe to say that the semantic opposite of \"good\" – that is, its antonym – is \"evil.\" But in the world of vector spaces, the least similar word to \"good\" is:"
   ]
  },
  {
   "cell_type": "code",
   "execution_count": 26,
   "metadata": {},
   "outputs": [],
   "source": [
    "targets = ['good', 'evil']\n",
    "\n",
    "for token in targets:\n",
    "    model.most_similar(positive=[\"good\"])"
   ]
  },
  {
   "cell_type": "code",
   "execution_count": 27,
   "metadata": {},
   "outputs": [
    {
     "data": {
      "text/plain": [
       "[('Ludgate', 0.6743211150169373),\n",
       " ('rejoycing', 0.6687424778938293),\n",
       " ('usefulness', 0.6529909372329712),\n",
       " ('Ulick,', 0.634185791015625),\n",
       " ('Filson.', 0.6178230047225952),\n",
       " ('Gilt', 0.6175533533096313),\n",
       " ('printed.)', 0.6150988936424255),\n",
       " ('concurrent', 0.6084148287773132),\n",
       " ('universities', 0.6026992797851562),\n",
       " ('Ane', 0.5950279831886292)]"
      ]
     },
     "execution_count": 27,
     "metadata": {},
     "output_type": "execute_result"
    }
   ],
   "source": [
    "model.most_similar(negative=[\"good\"])"
   ]
  },
  {
   "cell_type": "code",
   "execution_count": 33,
   "metadata": {},
   "outputs": [
    {
     "name": "stdout",
     "output_type": "stream",
     "text": [
      "Tokens least similar to 'good':\n"
     ]
    },
    {
     "data": {
      "text/html": [
       "<div>\n",
       "<style scoped>\n",
       "    .dataframe tbody tr th:only-of-type {\n",
       "        vertical-align: middle;\n",
       "    }\n",
       "\n",
       "    .dataframe tbody tr th {\n",
       "        vertical-align: top;\n",
       "    }\n",
       "\n",
       "    .dataframe thead th {\n",
       "        text-align: right;\n",
       "    }\n",
       "</style>\n",
       "<table border=\"1\" class=\"dataframe\">\n",
       "  <thead>\n",
       "    <tr style=\"text-align: right;\">\n",
       "      <th></th>\n",
       "      <th>WORD</th>\n",
       "      <th>SCORE</th>\n",
       "    </tr>\n",
       "  </thead>\n",
       "  <tbody>\n",
       "    <tr>\n",
       "      <th>44710</th>\n",
       "      <td>Ane</td>\n",
       "      <td>-0.595028</td>\n",
       "    </tr>\n",
       "    <tr>\n",
       "      <th>44711</th>\n",
       "      <td>universities</td>\n",
       "      <td>-0.602699</td>\n",
       "    </tr>\n",
       "    <tr>\n",
       "      <th>44712</th>\n",
       "      <td>concurrent</td>\n",
       "      <td>-0.608415</td>\n",
       "    </tr>\n",
       "    <tr>\n",
       "      <th>44713</th>\n",
       "      <td>printed.)</td>\n",
       "      <td>-0.615099</td>\n",
       "    </tr>\n",
       "    <tr>\n",
       "      <th>44714</th>\n",
       "      <td>Gilt</td>\n",
       "      <td>-0.617553</td>\n",
       "    </tr>\n",
       "    <tr>\n",
       "      <th>44715</th>\n",
       "      <td>Filson.</td>\n",
       "      <td>-0.617823</td>\n",
       "    </tr>\n",
       "    <tr>\n",
       "      <th>44716</th>\n",
       "      <td>Ulick,</td>\n",
       "      <td>-0.634186</td>\n",
       "    </tr>\n",
       "    <tr>\n",
       "      <th>44717</th>\n",
       "      <td>usefulness</td>\n",
       "      <td>-0.652991</td>\n",
       "    </tr>\n",
       "    <tr>\n",
       "      <th>44718</th>\n",
       "      <td>rejoycing</td>\n",
       "      <td>-0.668742</td>\n",
       "    </tr>\n",
       "    <tr>\n",
       "      <th>44719</th>\n",
       "      <td>Ludgate</td>\n",
       "      <td>-0.674321</td>\n",
       "    </tr>\n",
       "  </tbody>\n",
       "</table>\n",
       "</div>"
      ],
      "text/plain": [
       "               WORD     SCORE\n",
       "44710           Ane -0.595028\n",
       "44711  universities -0.602699\n",
       "44712    concurrent -0.608415\n",
       "44713     printed.) -0.615099\n",
       "44714          Gilt -0.617553\n",
       "44715       Filson. -0.617823\n",
       "44716        Ulick, -0.634186\n",
       "44717    usefulness -0.652991\n",
       "44718     rejoycing -0.668742\n",
       "44719       Ludgate -0.674321"
      ]
     },
     "metadata": {},
     "output_type": "display_data"
    },
    {
     "name": "stdout",
     "output_type": "stream",
     "text": [
      "\n",
      "Tokens least similar to 'evil':\n"
     ]
    },
    {
     "data": {
      "text/html": [
       "<div>\n",
       "<style scoped>\n",
       "    .dataframe tbody tr th:only-of-type {\n",
       "        vertical-align: middle;\n",
       "    }\n",
       "\n",
       "    .dataframe tbody tr th {\n",
       "        vertical-align: top;\n",
       "    }\n",
       "\n",
       "    .dataframe thead th {\n",
       "        text-align: right;\n",
       "    }\n",
       "</style>\n",
       "<table border=\"1\" class=\"dataframe\">\n",
       "  <thead>\n",
       "    <tr style=\"text-align: right;\">\n",
       "      <th></th>\n",
       "      <th>WORD</th>\n",
       "      <th>SCORE</th>\n",
       "    </tr>\n",
       "  </thead>\n",
       "  <tbody>\n",
       "    <tr>\n",
       "      <th>44710</th>\n",
       "      <td>soldier</td>\n",
       "      <td>-0.626211</td>\n",
       "    </tr>\n",
       "    <tr>\n",
       "      <th>44711</th>\n",
       "      <td>vvorke</td>\n",
       "      <td>-0.627029</td>\n",
       "    </tr>\n",
       "    <tr>\n",
       "      <th>44712</th>\n",
       "      <td>councell</td>\n",
       "      <td>-0.629111</td>\n",
       "    </tr>\n",
       "    <tr>\n",
       "      <th>44713</th>\n",
       "      <td>expence.</td>\n",
       "      <td>-0.630666</td>\n",
       "    </tr>\n",
       "    <tr>\n",
       "      <th>44714</th>\n",
       "      <td>Teachers</td>\n",
       "      <td>-0.639093</td>\n",
       "    </tr>\n",
       "    <tr>\n",
       "      <th>44715</th>\n",
       "      <td>peninsula</td>\n",
       "      <td>-0.651329</td>\n",
       "    </tr>\n",
       "    <tr>\n",
       "      <th>44716</th>\n",
       "      <td>check</td>\n",
       "      <td>-0.655280</td>\n",
       "    </tr>\n",
       "    <tr>\n",
       "      <th>44717</th>\n",
       "      <td>Burnham,</td>\n",
       "      <td>-0.659340</td>\n",
       "    </tr>\n",
       "    <tr>\n",
       "      <th>44718</th>\n",
       "      <td>revealed:</td>\n",
       "      <td>-0.662371</td>\n",
       "    </tr>\n",
       "    <tr>\n",
       "      <th>44719</th>\n",
       "      <td>Thunder</td>\n",
       "      <td>-0.765463</td>\n",
       "    </tr>\n",
       "  </tbody>\n",
       "</table>\n",
       "</div>"
      ],
      "text/plain": [
       "            WORD     SCORE\n",
       "44710    soldier -0.626211\n",
       "44711     vvorke -0.627029\n",
       "44712   councell -0.629111\n",
       "44713   expence. -0.630666\n",
       "44714   Teachers -0.639093\n",
       "44715  peninsula -0.651329\n",
       "44716      check -0.655280\n",
       "44717   Burnham, -0.659340\n",
       "44718  revealed: -0.662371\n",
       "44719    Thunder -0.765463"
      ]
     },
     "metadata": {},
     "output_type": "display_data"
    },
    {
     "name": "stdout",
     "output_type": "stream",
     "text": [
      "\n"
     ]
    }
   ],
   "source": [
    "targets = ['good', 'evil']\n",
    "for token in targets:\n",
    "    similarities = model.most_similar(token, topn=len(model))\n",
    "    print(f\"Tokens least similar to '{token}':\")\n",
    "    df = pd.DataFrame(similarities, columns=['WORD', 'SCORE'])\n",
    "    display(df.tail(10))\n",
    "    print(\"\")"
   ]
  },
  {
   "cell_type": "markdown",
   "metadata": {},
   "source": [
    "Now we can also compute the overall cosine similarity between the terms 'good' and 'evil'"
   ]
  },
  {
   "cell_type": "code",
   "execution_count": 34,
   "metadata": {
    "id": "bfd03710"
   },
   "outputs": [
    {
     "name": "stdout",
     "output_type": "stream",
     "text": [
      "Consine similarity score for good and evil: 0.2287\n"
     ]
    }
   ],
   "source": [
    "a, b = 'good', 'evil'\n",
    "sim = model.similarity(a, b)\n",
    "\n",
    "print(f\"Consine similarity score for {a} and {b}: {sim:0.4f}\")"
   ]
  },
  {
   "cell_type": "markdown",
   "metadata": {
    "id": "ca0ef20e"
   },
   "source": [
    "How do we make sense of this? Well, it has to do with the way the word embeddings are created. Since embeddings models are ultimately trained on co-occurrence data, words that tend to appear in similar kinds of contexts will be more similar in a mathematical sense than those that don't."
   ]
  },
  {
   "cell_type": "markdown",
   "metadata": {
    "id": "53f765b0"
   },
   "source": [
    "### Visualizing the vector space\n",
    "\n",
    "One way to start getting a feel for all this is to visualize the word vectors. We do so below by sampling a portion of the GloVe vectors and then reducing them into two-dimensional data, which we can plot. First, let's build two functions.\n",
    "\n",
    "```{margin} How we create the visualization data\n",
    "`sample_embeddings()` takes a sample from GloVe:\n",
    "\n",
    "1. First it randomly selects indices in the model\n",
    "2. Then it uses these to subset the vectors\n",
    "3. Finally it associates the tokens with their respective indices to produce a set of labels\n",
    "\n",
    "`prepare_vis_data()` takes the sampled vectors and their labels and reduces them with a t-SNE embedder\n",
    "\n",
    "1. The `TSNE()` portion of the code does the work of reducing our 200-dimension vectors into only two dimensions\n",
    "2. Then the function converts the two-dimensional data into a dataframe and associates the labels\n",
    "```"
   ]
  },
  {
   "cell_type": "code",
   "execution_count": 35,
   "metadata": {
    "executionInfo": {
     "elapsed": 563,
     "status": "ok",
     "timestamp": 1657770664068,
     "user": {
      "displayName": "Carl Stahmer",
      "userId": "08270031735613254632"
     },
     "user_tz": 420
    },
    "id": "e575b4ef"
   },
   "outputs": [],
   "source": [
    "from sklearn.manifold import TSNE\n",
    "\n",
    "def sample_embeddings(vectors, samp=1000):\n",
    "    n_vectors = vectors.shape[0]\n",
    "    mask = random.sample(range(n_vectors), samp)\n",
    "    vectors = vectors[mask]\n",
    "    vocab = [model.index_to_key[idx] for idx in mask]\n",
    "    \n",
    "    return vectors, vocab\n",
    "\n",
    "def prepare_vis_data(vectors, labels):\n",
    "    reduced = TSNE(\n",
    "        n_components=2,\n",
    "        learning_rate='auto',\n",
    "        init='random',\n",
    "        random_state=357\n",
    "    ).fit_transform(vectors)\n",
    "    \n",
    "    vis_data = pd.DataFrame(reduced, columns=['X', 'Y'])\n",
    "    vis_data['LABEL'] = labels\n",
    "    \n",
    "    return vis_data"
   ]
  },
  {
   "cell_type": "markdown",
   "metadata": {
    "id": "5a867847"
   },
   "source": [
    "Now we can retrieve all the vectors from GloVe using the `.key_to_index` attribute. With those stored in a `numpy` array, it's time to sample them and create the visualization data."
   ]
  },
  {
   "cell_type": "code",
   "execution_count": 36,
   "metadata": {
    "executionInfo": {
     "elapsed": 7794,
     "status": "ok",
     "timestamp": 1657770722136,
     "user": {
      "displayName": "Carl Stahmer",
      "userId": "08270031735613254632"
     },
     "user_tz": 420
    },
    "id": "590ae1fb"
   },
   "outputs": [
    {
     "ename": "UFuncTypeError",
     "evalue": "ufunc 'multiply' did not contain a loop with signature matching types (dtype('<U32'), dtype('<U32')) -> dtype('<U32')",
     "output_type": "error",
     "traceback": [
      "\u001b[0;31m---------------------------------------------------------------------------\u001b[0m",
      "\u001b[0;31mUFuncTypeError\u001b[0m                            Traceback (most recent call last)",
      "\u001b[0;32m<ipython-input-36-a085a3070087>\u001b[0m in \u001b[0;36m<module>\u001b[0;34m\u001b[0m\n\u001b[1;32m      3\u001b[0m \u001b[0;34m\u001b[0m\u001b[0m\n\u001b[1;32m      4\u001b[0m \u001b[0msampled\u001b[0m\u001b[0;34m,\u001b[0m \u001b[0msampled_vocab\u001b[0m \u001b[0;34m=\u001b[0m \u001b[0msample_embeddings\u001b[0m\u001b[0;34m(\u001b[0m\u001b[0mall_vectors\u001b[0m\u001b[0;34m)\u001b[0m\u001b[0;34m\u001b[0m\u001b[0;34m\u001b[0m\u001b[0m\n\u001b[0;32m----> 5\u001b[0;31m \u001b[0mvis_data\u001b[0m \u001b[0;34m=\u001b[0m \u001b[0mprepare_vis_data\u001b[0m\u001b[0;34m(\u001b[0m\u001b[0msampled\u001b[0m\u001b[0;34m,\u001b[0m \u001b[0msampled_vocab\u001b[0m\u001b[0;34m)\u001b[0m\u001b[0;34m\u001b[0m\u001b[0;34m\u001b[0m\u001b[0m\n\u001b[0m",
      "\u001b[0;32m<ipython-input-35-35d9f9921c7a>\u001b[0m in \u001b[0;36mprepare_vis_data\u001b[0;34m(vectors, labels)\u001b[0m\n\u001b[1;32m     15\u001b[0m         \u001b[0minit\u001b[0m\u001b[0;34m=\u001b[0m\u001b[0;34m'random'\u001b[0m\u001b[0;34m,\u001b[0m\u001b[0;34m\u001b[0m\u001b[0;34m\u001b[0m\u001b[0m\n\u001b[1;32m     16\u001b[0m         \u001b[0mrandom_state\u001b[0m\u001b[0;34m=\u001b[0m\u001b[0;36m357\u001b[0m\u001b[0;34m\u001b[0m\u001b[0;34m\u001b[0m\u001b[0m\n\u001b[0;32m---> 17\u001b[0;31m     ).fit_transform(vectors)\n\u001b[0m\u001b[1;32m     18\u001b[0m \u001b[0;34m\u001b[0m\u001b[0m\n\u001b[1;32m     19\u001b[0m     \u001b[0mvis_data\u001b[0m \u001b[0;34m=\u001b[0m \u001b[0mpd\u001b[0m\u001b[0;34m.\u001b[0m\u001b[0mDataFrame\u001b[0m\u001b[0;34m(\u001b[0m\u001b[0mreduced\u001b[0m\u001b[0;34m,\u001b[0m \u001b[0mcolumns\u001b[0m\u001b[0;34m=\u001b[0m\u001b[0;34m[\u001b[0m\u001b[0;34m'X'\u001b[0m\u001b[0;34m,\u001b[0m \u001b[0;34m'Y'\u001b[0m\u001b[0;34m]\u001b[0m\u001b[0;34m)\u001b[0m\u001b[0;34m\u001b[0m\u001b[0;34m\u001b[0m\u001b[0m\n",
      "\u001b[0;32m/Applications/anaconda3/lib/python3.7/site-packages/sklearn/manifold/_t_sne.py\u001b[0m in \u001b[0;36mfit_transform\u001b[0;34m(self, X, y)\u001b[0m\n\u001b[1;32m    884\u001b[0m             \u001b[0mEmbedding\u001b[0m \u001b[0mof\u001b[0m \u001b[0mthe\u001b[0m \u001b[0mtraining\u001b[0m \u001b[0mdata\u001b[0m \u001b[0;32min\u001b[0m \u001b[0mlow\u001b[0m\u001b[0;34m-\u001b[0m\u001b[0mdimensional\u001b[0m \u001b[0mspace\u001b[0m\u001b[0;34m.\u001b[0m\u001b[0;34m\u001b[0m\u001b[0;34m\u001b[0m\u001b[0m\n\u001b[1;32m    885\u001b[0m         \"\"\"\n\u001b[0;32m--> 886\u001b[0;31m         \u001b[0membedding\u001b[0m \u001b[0;34m=\u001b[0m \u001b[0mself\u001b[0m\u001b[0;34m.\u001b[0m\u001b[0m_fit\u001b[0m\u001b[0;34m(\u001b[0m\u001b[0mX\u001b[0m\u001b[0;34m)\u001b[0m\u001b[0;34m\u001b[0m\u001b[0;34m\u001b[0m\u001b[0m\n\u001b[0m\u001b[1;32m    887\u001b[0m         \u001b[0mself\u001b[0m\u001b[0;34m.\u001b[0m\u001b[0membedding_\u001b[0m \u001b[0;34m=\u001b[0m \u001b[0membedding\u001b[0m\u001b[0;34m\u001b[0m\u001b[0;34m\u001b[0m\u001b[0m\n\u001b[1;32m    888\u001b[0m         \u001b[0;32mreturn\u001b[0m \u001b[0mself\u001b[0m\u001b[0;34m.\u001b[0m\u001b[0membedding_\u001b[0m\u001b[0;34m\u001b[0m\u001b[0;34m\u001b[0m\u001b[0m\n",
      "\u001b[0;32m/Applications/anaconda3/lib/python3.7/site-packages/sklearn/manifold/_t_sne.py\u001b[0m in \u001b[0;36m_fit\u001b[0;34m(self, X, skip_num_points)\u001b[0m\n\u001b[1;32m    796\u001b[0m                           \u001b[0mX_embedded\u001b[0m\u001b[0;34m=\u001b[0m\u001b[0mX_embedded\u001b[0m\u001b[0;34m,\u001b[0m\u001b[0;34m\u001b[0m\u001b[0;34m\u001b[0m\u001b[0m\n\u001b[1;32m    797\u001b[0m                           \u001b[0mneighbors\u001b[0m\u001b[0;34m=\u001b[0m\u001b[0mneighbors_nn\u001b[0m\u001b[0;34m,\u001b[0m\u001b[0;34m\u001b[0m\u001b[0;34m\u001b[0m\u001b[0m\n\u001b[0;32m--> 798\u001b[0;31m                           skip_num_points=skip_num_points)\n\u001b[0m\u001b[1;32m    799\u001b[0m \u001b[0;34m\u001b[0m\u001b[0m\n\u001b[1;32m    800\u001b[0m     def _tsne(self, P, degrees_of_freedom, n_samples, X_embedded,\n",
      "\u001b[0;32m/Applications/anaconda3/lib/python3.7/site-packages/sklearn/manifold/_t_sne.py\u001b[0m in \u001b[0;36m_tsne\u001b[0;34m(self, P, degrees_of_freedom, n_samples, X_embedded, neighbors, skip_num_points)\u001b[0m\n\u001b[1;32m    835\u001b[0m         \u001b[0mP\u001b[0m \u001b[0;34m*=\u001b[0m \u001b[0mself\u001b[0m\u001b[0;34m.\u001b[0m\u001b[0mearly_exaggeration\u001b[0m\u001b[0;34m\u001b[0m\u001b[0;34m\u001b[0m\u001b[0m\n\u001b[1;32m    836\u001b[0m         params, kl_divergence, it = _gradient_descent(obj_func, params,\n\u001b[0;32m--> 837\u001b[0;31m                                                       **opt_args)\n\u001b[0m\u001b[1;32m    838\u001b[0m         \u001b[0;32mif\u001b[0m \u001b[0mself\u001b[0m\u001b[0;34m.\u001b[0m\u001b[0mverbose\u001b[0m\u001b[0;34m:\u001b[0m\u001b[0;34m\u001b[0m\u001b[0;34m\u001b[0m\u001b[0m\n\u001b[1;32m    839\u001b[0m             print(\"[t-SNE] KL divergence after %d iterations with early \"\n",
      "\u001b[0;32m/Applications/anaconda3/lib/python3.7/site-packages/sklearn/manifold/_t_sne.py\u001b[0m in \u001b[0;36m_gradient_descent\u001b[0;34m(objective, p0, it, n_iter, n_iter_check, n_iter_without_progress, momentum, learning_rate, min_gain, min_grad_norm, verbose, args, kwargs)\u001b[0m\n\u001b[1;32m    365\u001b[0m         \u001b[0mnp\u001b[0m\u001b[0;34m.\u001b[0m\u001b[0mclip\u001b[0m\u001b[0;34m(\u001b[0m\u001b[0mgains\u001b[0m\u001b[0;34m,\u001b[0m \u001b[0mmin_gain\u001b[0m\u001b[0;34m,\u001b[0m \u001b[0mnp\u001b[0m\u001b[0;34m.\u001b[0m\u001b[0minf\u001b[0m\u001b[0;34m,\u001b[0m \u001b[0mout\u001b[0m\u001b[0;34m=\u001b[0m\u001b[0mgains\u001b[0m\u001b[0;34m)\u001b[0m\u001b[0;34m\u001b[0m\u001b[0;34m\u001b[0m\u001b[0m\n\u001b[1;32m    366\u001b[0m         \u001b[0mgrad\u001b[0m \u001b[0;34m*=\u001b[0m \u001b[0mgains\u001b[0m\u001b[0;34m\u001b[0m\u001b[0;34m\u001b[0m\u001b[0m\n\u001b[0;32m--> 367\u001b[0;31m         \u001b[0mupdate\u001b[0m \u001b[0;34m=\u001b[0m \u001b[0mmomentum\u001b[0m \u001b[0;34m*\u001b[0m \u001b[0mupdate\u001b[0m \u001b[0;34m-\u001b[0m \u001b[0mlearning_rate\u001b[0m \u001b[0;34m*\u001b[0m \u001b[0mgrad\u001b[0m\u001b[0;34m\u001b[0m\u001b[0;34m\u001b[0m\u001b[0m\n\u001b[0m\u001b[1;32m    368\u001b[0m         \u001b[0mp\u001b[0m \u001b[0;34m+=\u001b[0m \u001b[0mupdate\u001b[0m\u001b[0;34m\u001b[0m\u001b[0;34m\u001b[0m\u001b[0m\n\u001b[1;32m    369\u001b[0m \u001b[0;34m\u001b[0m\u001b[0m\n",
      "\u001b[0;31mUFuncTypeError\u001b[0m: ufunc 'multiply' did not contain a loop with signature matching types (dtype('<U32'), dtype('<U32')) -> dtype('<U32')"
     ]
    }
   ],
   "source": [
    "import numpy as np\n",
    "all_vectors = np.array([model[idx] for idx in model.key_to_index])\n",
    "\n",
    "sampled, sampled_vocab = sample_embeddings(all_vectors)\n",
    "vis_data = prepare_vis_data(sampled, sampled_vocab)"
   ]
  },
  {
   "cell_type": "markdown",
   "metadata": {
    "id": "57f25012"
   },
   "source": [
    "```{margin} This visualization is partial\n",
    "Since we've run a t-SNE reduction on the sampled embeddings, the graph layout only takes into account the relative differences between that sampling, not all of GloVe. Going the latter route would take a while to compute – there would be 400,000 embeddings to reduce!\n",
    "```\n",
    "\n",
    "With the reduced embeddings made, it's time to plot them. Have a look around at the results. What seems right to you? What surprises you?"
   ]
  },
  {
   "cell_type": "code",
   "execution_count": null,
   "metadata": {
    "id": "18195af4"
   },
   "outputs": [],
   "source": [
    "import altair as alt\n",
    "\n",
    "alt.Chart(vis_data).mark_circle(size=30).encode(\n",
    "    x='X',\n",
    "    y='Y',\n",
    "    tooltip='LABEL'\n",
    ").properties(\n",
    "    height=650,\n",
    "    width=650\n",
    ").interactive()"
   ]
  },
  {
   "cell_type": "markdown",
   "metadata": {
    "id": "82a21c2f"
   },
   "source": [
    "### Other relationships\n",
    "\n",
    "Beyond cosine similarity, there are other word relationships to explore via vector space math. For example, one way of modeling something like a _concept_ is to think about what other concepts comprise it. In other words: what plus what creates a new concept? Could we identify concepts by adding together vectors to create a new vector? Which words would this new vector be closest to in the vector space? Using the `.similar_by_vector()` method, we can find out.\n",
    "\n",
    "```{margin} What this loop does\n",
    "For each concept in our `concepts` dictionary:\n",
    "\n",
    "1. Get its associated pair of words\n",
    "2. Query the model for those words' vectors and add them together to create a new vector\n",
    "3. Find the most similar words to this new vector\n",
    "4. Use a dataframe to display the results\n",
    "```"
   ]
  },
  {
   "cell_type": "code",
   "execution_count": 38,
   "metadata": {
    "id": "432fc44a"
   },
   "outputs": [
    {
     "name": "stdout",
     "output_type": "stream",
     "text": [
      "Most similar tokens to 'hate' + 'marriage' (for 'love')\n"
     ]
    },
    {
     "data": {
      "text/html": [
       "<div>\n",
       "<style scoped>\n",
       "    .dataframe tbody tr th:only-of-type {\n",
       "        vertical-align: middle;\n",
       "    }\n",
       "\n",
       "    .dataframe tbody tr th {\n",
       "        vertical-align: top;\n",
       "    }\n",
       "\n",
       "    .dataframe thead th {\n",
       "        text-align: right;\n",
       "    }\n",
       "</style>\n",
       "<table border=\"1\" class=\"dataframe\">\n",
       "  <thead>\n",
       "    <tr style=\"text-align: right;\">\n",
       "      <th></th>\n",
       "      <th>WORD</th>\n",
       "      <th>SCORE</th>\n",
       "    </tr>\n",
       "  </thead>\n",
       "  <tbody>\n",
       "    <tr>\n",
       "      <th>0</th>\n",
       "      <td>hate</td>\n",
       "      <td>0.879536</td>\n",
       "    </tr>\n",
       "    <tr>\n",
       "      <th>1</th>\n",
       "      <td>appeal</td>\n",
       "      <td>0.845385</td>\n",
       "    </tr>\n",
       "    <tr>\n",
       "      <th>2</th>\n",
       "      <td>Armagh.</td>\n",
       "      <td>0.827039</td>\n",
       "    </tr>\n",
       "    <tr>\n",
       "      <th>3</th>\n",
       "      <td>explication</td>\n",
       "      <td>0.822837</td>\n",
       "    </tr>\n",
       "    <tr>\n",
       "      <th>4</th>\n",
       "      <td>Bunny.</td>\n",
       "      <td>0.817900</td>\n",
       "    </tr>\n",
       "    <tr>\n",
       "      <th>5</th>\n",
       "      <td>dicto</td>\n",
       "      <td>0.816709</td>\n",
       "    </tr>\n",
       "    <tr>\n",
       "      <th>6</th>\n",
       "      <td>palaces,</td>\n",
       "      <td>0.814199</td>\n",
       "    </tr>\n",
       "    <tr>\n",
       "      <th>7</th>\n",
       "      <td>denominations</td>\n",
       "      <td>0.812224</td>\n",
       "    </tr>\n",
       "    <tr>\n",
       "      <th>8</th>\n",
       "      <td>waters.</td>\n",
       "      <td>0.807174</td>\n",
       "    </tr>\n",
       "    <tr>\n",
       "      <th>9</th>\n",
       "      <td>fop's</td>\n",
       "      <td>0.806112</td>\n",
       "    </tr>\n",
       "  </tbody>\n",
       "</table>\n",
       "</div>"
      ],
      "text/plain": [
       "            WORD     SCORE\n",
       "0           hate  0.879536\n",
       "1         appeal  0.845385\n",
       "2        Armagh.  0.827039\n",
       "3    explication  0.822837\n",
       "4         Bunny.  0.817900\n",
       "5          dicto  0.816709\n",
       "6       palaces,  0.814199\n",
       "7  denominations  0.812224\n",
       "8        waters.  0.807174\n",
       "9          fop's  0.806112"
      ]
     },
     "metadata": {},
     "output_type": "display_data"
    }
   ],
   "source": [
    "concepts = {'love': ('hate', 'marriage')}\n",
    "\n",
    "for concept in concepts:\n",
    "    pair = concepts[concept]\n",
    "    generated_concept = model[pair[0]] + model[pair[1]]\n",
    "    similarities = model.similar_by_vector(generated_concept)\n",
    "    print(f\"Most similar tokens to '{pair[0]}' + '{pair[1]}' (for '{concept}')\")\n",
    "    df = pd.DataFrame(similarities, columns=['WORD', 'SCORE'])\n",
    "    display(df)"
   ]
  },
  {
   "cell_type": "markdown",
   "metadata": {
    "id": "08b64296"
   },
   "source": [
    "Not bad! Our target concept isn't the most similar word for either of these examples, but it's in the top 10.\n",
    "\n",
    "Most famously, word embeddings enable quasi-logical reasoning. Though, as we mentioned earlier, relationships between antonyms and synoyms do not necessarily map to a vector space, certain analogies do – at least under the right circumstances, and with particular training data. The logic here is that we identify a relationship between two words and we subtract one of those words' vectors from the other. To that new vector we add in a vector for a target word, which forms the analogy. Querying for the word closest to this modified vector should produce a similar relation between the result and the target word as that between the original pair.\n",
    "\n",
    "Here, we ask: \"strong is to stronger what clear is to X?\""
   ]
  },
  {
   "cell_type": "code",
   "execution_count": null,
   "metadata": {
    "id": "9ae0fa8b"
   },
   "outputs": [],
   "source": [
    "analogies = model.most_similar(positive=['stronger', 'clear'], negative=['strong'])\n",
    "display(pd.DataFrame(analogies, columns=['WORD', 'SCORE']))\n",
    "print(\"Ideal target: 'clearer'\")"
   ]
  },
  {
   "cell_type": "markdown",
   "metadata": {
    "id": "c8ecf5b1"
   },
   "source": [
    "And here, we ask: \"Paris is to France what Berlin is to X\"?"
   ]
  },
  {
   "cell_type": "code",
   "execution_count": null,
   "metadata": {
    "id": "c3f1b581"
   },
   "outputs": [],
   "source": [
    "analogies = model.most_similar(positive=['france', 'berlin'], negative=['paris'])\n",
    "display(pd.DataFrame(analogies, columns=['WORD', 'SCORE']))\n",
    "print(\"Ideal target: 'Germany'\")"
   ]
  },
  {
   "cell_type": "markdown",
   "metadata": {
    "id": "4702496a"
   },
   "source": [
    "Both of the above produce compelling results, though your mileage may vary. Consider the following: \"arm is to hand what leg is to X?\""
   ]
  },
  {
   "cell_type": "code",
   "execution_count": null,
   "metadata": {
    "id": "f5b08a0b"
   },
   "outputs": [],
   "source": [
    "analogies = model.most_similar(positive=['hand', 'leg'], negative=['arm'])\n",
    "display(pd.DataFrame(analogies, columns=['WORD', 'SCORE']))\n",
    "print(\"Ideal target: 'foot'\")"
   ]
  },
  {
   "cell_type": "markdown",
   "metadata": {
    "id": "9e207db9"
   },
   "source": [
    "Importantly, these results are always going to be specific to the data on which a model was trained. Claims made on the basis of word embeddings that aspire to general linguistic truths would be treading on shaky ground here."
   ]
  },
  {
   "cell_type": "markdown",
   "metadata": {
    "id": "e4f5ded1"
   },
   "source": [
    "Document similarity\n",
    "------------------------\n",
    "\n",
    "While the above word relationships are relatively abstract (and any such findings therefrom should be couched accordingly), we can ground them with a concrete task. In this final section, we use GloVe embeddings to encode our corpus documents. This involves associating a word vector for each token in an obituary. Of course, GloVe has not been trained on the obituaries, so there may be important differences in token behavior between that model and the corpus; but we can assume that the general nature of GloVe will give us a decent sense of the overall feature space of the corpus. The result will be an enriched representation of each document, the nuances of which may better help us identify things like similarities between obituaries in our corpus.\n",
    "\n",
    "The other consideration for using GloVe with our specific corpus concerns the out-of-vocabulary words we've already discussed. Before we can encode our documents, we need to filter out tokens for which GloVe has no representation. We can do so by referencing the `in_glove` set we produced above.\n",
    "\n",
    "```{margin} What this loop does\n",
    "For every obituary:\n",
    "\n",
    "1. Create a new list to hold the tokens we want to keep\n",
    "2. Go through each of the tokens and check whether they are in GloVe\n",
    "3. Append in-vocabulary tokens to the new list\n",
    "4. Once we've checked all tokens, append them to a new corpus list\n",
    "```"
   ]
  },
  {
   "cell_type": "code",
   "execution_count": 33,
   "metadata": {
    "executionInfo": {
     "elapsed": 261,
     "status": "ok",
     "timestamp": 1657771017491,
     "user": {
      "displayName": "Carl Stahmer",
      "userId": "08270031735613254632"
     },
     "user_tz": 420
    },
    "id": "2c21df57"
   },
   "outputs": [],
   "source": [
    "pruned = []\n",
    "for doc in corpus:\n",
    "    keep = []\n",
    "    for token in doc:\n",
    "        if token in in_glove:\n",
    "            keep.append(token)\n",
    "    pruned.append(keep)"
   ]
  },
  {
   "cell_type": "markdown",
   "metadata": {
    "id": "437a3902"
   },
   "source": [
    "### Encoding\n",
    "\n",
    "Time to encode. This is an easy operation. All we need to do is run the list of document's tokens directly into the model object and `gensim` will encode each accordingly. The result will be an `(n, 200)` array, where `n` is the number of tokens we passed to the model; each one will have 200 dimensions.\n",
    "\n",
    "But if we kept this array as is, we'd run into trouble. Matrix operations often require identically shaped representations, so documents with different lengths would be incomparable. To get around this, we take the mean of all the vectors in a document. The result is a 200-dimension vector that stands as a general representation of a document."
   ]
  },
  {
   "cell_type": "code",
   "execution_count": 34,
   "metadata": {
    "executionInfo": {
     "elapsed": 1354,
     "status": "ok",
     "timestamp": 1657771065641,
     "user": {
      "displayName": "Carl Stahmer",
      "userId": "08270031735613254632"
     },
     "user_tz": 420
    },
    "id": "58fee46d"
   },
   "outputs": [],
   "source": [
    "doc_embeddings = [np.mean(model[doc], axis=0) for doc in pruned]\n",
    "doc_embeddings = np.array(doc_embeddings)"
   ]
  },
  {
   "cell_type": "markdown",
   "metadata": {
    "id": "b81aa64e"
   },
   "source": [
    "Let's quickly check our work."
   ]
  },
  {
   "cell_type": "code",
   "execution_count": null,
   "metadata": {
    "id": "f7212620"
   },
   "outputs": [],
   "source": [
    "print(\n",
    "    f\"Shape of an encoded document: {model[pruned[0]].shape}\",\n",
    "    f\"\\nShape of an encoded document after taking its mean embedding: {doc_embeddings[0].shape}\"\n",
    ")"
   ]
  },
  {
   "cell_type": "markdown",
   "metadata": {
    "id": "9d48ab3e"
   },
   "source": [
    "From here, we can treat these embeddings almost as if they represented words. Let's plot our obituaries accordingly. Take a look around at this and see what you can find. As a starting point, you might focus on that cluster of nodes right in the middle of the graph, toward the top. All the obituaries there are for sports players – they're even broken out by sport (baseball players are on the right)."
   ]
  },
  {
   "cell_type": "code",
   "execution_count": null,
   "metadata": {
    "id": "d708fb73"
   },
   "outputs": [],
   "source": [
    "vis_data = prepare_vis_data(doc_embeddings, manifest['NAME'])\n",
    "\n",
    "alt.Chart(vis_data).mark_circle(size=30).encode(\n",
    "    x='X',\n",
    "    y='Y',\n",
    "    tooltip='LABEL'\n",
    ").properties(\n",
    "    height=650,\n",
    "    width=650\n",
    ").interactive()"
   ]
  },
  {
   "cell_type": "markdown",
   "metadata": {
    "id": "a7ee6c3b"
   },
   "source": [
    "### Clustering\n",
    "\n",
    "The document embeddings seem to be partitioned into different clusters. We'll end by using a hierarchical clusterer to see if we can further specifiy these clusters. This involves loading the `AgglomerativeClustering` object from `scikit-learn` and fitting it to our document embeddings. Hierarchical clustering requires us to predefine the number of clusters we'd like to generate. In this case, we'll go with 18.\n",
    "\n",
    "```{margin} Why this number of clusters?\n",
    "We grid searched different numbers and measured the results with a [silhouette coefficient].\n",
    "\n",
    "[silhouette coefficient]: https://towardsdatascience.com/silhouette-coefficient-validating-clustering-techniques-e976bb81d10c\n",
    "```"
   ]
  },
  {
   "cell_type": "code",
   "execution_count": 37,
   "metadata": {
    "executionInfo": {
     "elapsed": 297,
     "status": "ok",
     "timestamp": 1657771142996,
     "user": {
      "displayName": "Carl Stahmer",
      "userId": "08270031735613254632"
     },
     "user_tz": 420
    },
    "id": "8689e77d"
   },
   "outputs": [],
   "source": [
    "from sklearn.cluster import AgglomerativeClustering\n",
    "\n",
    "n_clusters = 18\n",
    "agg = AgglomerativeClustering(n_clusters=n_clusters).fit(doc_embeddings)"
   ]
  },
  {
   "cell_type": "markdown",
   "metadata": {
    "id": "cb1aa71f"
   },
   "source": [
    "Now we can assign the clusterer's predicted labels to the dataframe that contains our visualization data and re-plot the results."
   ]
  },
  {
   "cell_type": "code",
   "execution_count": null,
   "metadata": {
    "id": "902d168e"
   },
   "outputs": [],
   "source": [
    "vis_data['CLUSTER'] = agg.labels_ + 1\n",
    "\n",
    "alt.Chart(vis_data).mark_circle(size=30).encode(\n",
    "    x='X',\n",
    "    y='Y',\n",
    "    tooltip=['LABEL', 'CLUSTER'],\n",
    "    color='CLUSTER:N'\n",
    ").properties(\n",
    "    height=650,\n",
    "    width=650\n",
    ").interactive()"
   ]
  },
  {
   "cell_type": "markdown",
   "metadata": {
    "id": "2742d46b"
   },
   "source": [
    "Once again, take a look around and see what you can find. These clusters seem to be both detailed and nicely partitioned, bracketing off, for example, classical musicians and composers (cluster 7) from jazz and popular musicians (cluster 11).\n",
    "\n",
    "```{margin} What this loop does\n",
    "For each cluster:\n",
    "\n",
    "1. Subset the visualization data with that cluster and get all the people\n",
    "2. Convert the column into string and then split that string into chunks with `textwrap`\n",
    "3. Print to screen\n",
    "```"
   ]
  },
  {
   "cell_type": "code",
   "execution_count": null,
   "metadata": {
    "id": "e2e8c674"
   },
   "outputs": [],
   "source": [
    "import textwrap\n",
    "\n",
    "for k in [7, 11]:\n",
    "    people = vis_data[vis_data['CLUSTER']==k]['LABEL']\n",
    "    people = ', '.join(person for person in people)\n",
    "    people = textwrap.wrap(people, 80)\n",
    "    print(f\"Cluster: {k:>2}\\n-----------\")\n",
    "    for entry in people:\n",
    "        print(entry)\n",
    "    print(\"\\n\")"
   ]
  },
  {
   "cell_type": "markdown",
   "metadata": {
    "id": "0a60c62d"
   },
   "source": [
    "Consider further cluster 6, which seems to be about famous scientists.\n",
    "\n",
    "```{margin} What's going on with \"Martian Theory\"?\n",
    "It appears this is actually Percival Lowell, an astronomer (he did, however, advance the idea that Mars is inhabited). Apparently our metadata is a little messy!\n",
    "```"
   ]
  },
  {
   "cell_type": "code",
   "execution_count": null,
   "metadata": {
    "id": "8c608fda"
   },
   "outputs": [],
   "source": [
    "for person in vis_data[vis_data['CLUSTER']==6]['LABEL']:\n",
    "    print(person)"
   ]
  },
  {
   "cell_type": "markdown",
   "metadata": {
    "id": "66f3e967"
   },
   "source": [
    "There are, however, some interestingly noisy clusters, like cluster 13. With people like Queen Victoria and William McKinley in this cluster, it at first appears to be about national leaders of various sorts, but the inclusion of others like Al Capone (the ganster) and Ernie Pyle (a journalist) complicate this. If you take a closer look, what really seems to be tying these obituaries together is war. Nearly everyone here was involved in war in some fashion or another – save for Capone, whose inclusion makes for strange bedfellows."
   ]
  },
  {
   "cell_type": "code",
   "execution_count": null,
   "metadata": {
    "id": "4f945e56"
   },
   "outputs": [],
   "source": [
    "for person in vis_data[vis_data['CLUSTER']==13]['LABEL']:\n",
    "    print(person)"
   ]
  },
  {
   "cell_type": "markdown",
   "metadata": {
    "id": "722c23c1"
   },
   "source": [
    "Depending on your task, these detailed distinctions may not be so desirable. But for us, the document embeddings provide a wonderfully nuanced view of the kinds of people in the obituaries. From here, further exploration might involve focusing on misfits and outliers. Why, for example, is Capone in cluster 13? Or why is Lou Gehrig all by himself in his own cluster? Of course, we could always recluster this data, which would redraw such groupings, but perhaps there is something indeed significant about the way things are divided up as they stand. Word embeddings help bring us to a point where we can begin to undertake such investigations – what comes next depends on which questions we want to ask."
   ]
  }
 ],
 "metadata": {
  "celltoolbar": "Tags",
  "colab": {
   "collapsed_sections": [],
   "name": "2022_d4_m4_word_embeddings.ipynb",
   "provenance": [
    {
     "file_id": "14aLLAlIZykkxyjsSSGE0KGsLmIByRBrf",
     "timestamp": 1657750851599
    }
   ]
  },
  "gpuClass": "standard",
  "kernelspec": {
   "display_name": "Python 3",
   "language": "python",
   "name": "python3"
  },
  "language_info": {
   "codemirror_mode": {
    "name": "ipython",
    "version": 3
   },
   "file_extension": ".py",
   "mimetype": "text/x-python",
   "name": "python",
   "nbconvert_exporter": "python",
   "pygments_lexer": "ipython3",
   "version": "3.7.6"
  }
 },
 "nbformat": 4,
 "nbformat_minor": 5
}
